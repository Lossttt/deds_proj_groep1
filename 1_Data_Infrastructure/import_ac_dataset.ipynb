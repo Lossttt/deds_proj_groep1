{
 "cells": [
  {
   "cell_type": "markdown",
   "metadata": {},
   "source": [
    "# - Data infrastructuur -"
   ]
  },
  {
   "cell_type": "markdown",
   "metadata": {},
   "source": [
    "### Connectie leggen tussen jupyter notebooks en het Microsoft Accesbestand"
   ]
  },
  {
   "cell_type": "markdown",
   "metadata": {},
   "source": [
    "##### Importeren van benodigde dependencies"
   ]
  },
  {
   "cell_type": "code",
   "execution_count": 14,
   "metadata": {},
   "outputs": [],
   "source": [
    "import pandas as pd # type: ignore\n",
    "import pyodbc # type: ignore\n",
    "from sqlalchemy import create_engine # type: ignore\n"
   ]
  },
  {
   "cell_type": "code",
   "execution_count": 15,
   "metadata": {},
   "outputs": [],
   "source": [
    "def create_connection(db_path):\n",
    "    conn_str = (\n",
    "        r'DRIVER={Microsoft Access Driver (*.mdb, *.accdb)};'\n",
    "        r'DBQ=' + db_path + ';'\n",
    "    )\n",
    "    conn = pyodbc.connect(conn_str)\n",
    "    cursor = conn.cursor()\n",
    "    return conn, cursor"
   ]
  },
  {
   "cell_type": "markdown",
   "metadata": {},
   "source": [
    "#### Opbouwen van dataframes van elke database-tabel"
   ]
  },
  {
   "cell_type": "code",
   "execution_count": 18,
   "metadata": {},
   "outputs": [],
   "source": [
    "def read_sql_query(query):\n",
    "    db_path = \"../6_Data/aenc.accdb\"\n",
    "    conn_str = (\n",
    "        r'DRIVER={Microsoft Access Driver (*.mdb, *.accdb)};'\n",
    "        r'DBQ=' + db_path + ';'\n",
    "    )\n",
    "    conn = pyodbc.connect(conn_str)\n",
    "    cursor = conn.cursor()\n",
    "    cursor.execute(query)\n",
    "    rows = cursor.fetchall()\n",
    "    df = pd.DataFrame.from_records(rows, columns=[column[0] for column in cursor.description])\n",
    "    return df"
   ]
  },
  {
   "cell_type": "code",
   "execution_count": 19,
   "metadata": {},
   "outputs": [],
   "source": [
    "bonus_df = read_sql_query(\"SELECT * FROM bonus\")\n",
    "customer_df = read_sql_query(\"SELECT * FROM customer\")\n",
    "department_df = read_sql_query(\"SELECT * FROM department\")\n",
    "employee_df = read_sql_query(\"SELECT * FROM employee\")\n",
    "product_df = read_sql_query(\"SELECT * FROM product\")\n",
    "region_df = read_sql_query(\"SELECT * FROM region\")\n",
    "sales_order_df = read_sql_query(\"SELECT * FROM sales_order\")\n",
    "sales_order_item_df = read_sql_query(\"SELECT * FROM sales_order_item\")\n",
    "state_df = read_sql_query(\"SELECT * FROM state\")"
   ]
  }
 ],
 "metadata": {
  "kernelspec": {
   "display_name": "Python 3",
   "language": "python",
   "name": "python3"
  },
  "language_info": {
   "codemirror_mode": {
    "name": "ipython",
    "version": 3
   },
   "file_extension": ".py",
   "mimetype": "text/x-python",
   "name": "python",
   "nbconvert_exporter": "python",
   "pygments_lexer": "ipython3",
   "version": "3.12.2"
  }
 },
 "nbformat": 4,
 "nbformat_minor": 2
}
