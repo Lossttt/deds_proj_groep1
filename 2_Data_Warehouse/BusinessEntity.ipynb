{
 "cells": [
  {
   "cell_type": "markdown",
   "metadata": {},
   "source": [
    "# - Data Warehouse -"
   ]
  },
  {
   "cell_type": "markdown",
   "metadata": {},
   "source": [
    "### Het samenvoegen van bestaande tabellen voor het uiteindelijke 'Datawarehouse'"
   ]
  },
  {
   "cell_type": "markdown",
   "metadata": {
    "vscode": {
     "languageId": "plaintext"
    }
   },
   "source": [
    "##### Importeren van benodigde dependencies"
   ]
  },
  {
   "cell_type": "code",
   "execution_count": 1,
   "metadata": {},
   "outputs": [],
   "source": [
    "import pandas as pd\n",
    "import pyodbc\n",
    "\n",
    "import warnings\n",
    "warnings.filterwarnings(\"ignore\")\n",
    "\n",
    "# Importeren van de create_connection en run_query functies uit de database_utils.py file\n",
    "from utils.database_utils import create_connection, run_query"
   ]
  },
  {
   "cell_type": "markdown",
   "metadata": {},
   "source": [
    "##### 1 - Opbouwen van dataframes voor elke database-tabel"
   ]
  },
  {
   "cell_type": "code",
   "execution_count": 2,
   "metadata": {},
   "outputs": [],
   "source": [
    "\n",
    "aw_BusinessEntityDF= run_query(\"SELECT * FROM Person.BusinessEntity\", \"AdventureWorks2019\")"
   ]
  },
  {
   "cell_type": "markdown",
   "metadata": {},
   "source": [
    "Je kunt vergelijkbare queries uitvoeren voor andere tabellen die je wilt opnemen."
   ]
  },
  {
   "cell_type": "markdown",
   "metadata": {},
   "source": [
    "#### 2 - Data transformatie"
   ]
  },
  {
   "cell_type": "markdown",
   "metadata": {},
   "source": [
    "Na het opbouwen van de dataframes voor elke database-tabel, kunnen we beginnen met het transformeren van de data. Dit omvat het samenvoegen van tabellen, het toepassen van filters, het uitvoeren van berekeningen, enzovoort."
   ]
  },
  {
   "cell_type": "code",
   "execution_count": 3,
   "metadata": {},
   "outputs": [],
   "source": [
    "\n",
    "filtered_df = aw_BusinessEntityDF.drop(columns=['rowguid', 'ModifiedDate'])"
   ]
  },
  {
   "cell_type": "code",
   "execution_count": 4,
   "metadata": {},
   "outputs": [
    {
     "ename": "TypeError",
     "evalue": "can only concatenate str (not \"NoneType\") to str",
     "output_type": "error",
     "traceback": [
      "\u001b[1;31m---------------------------------------------------------------------------\u001b[0m",
      "\u001b[1;31mTypeError\u001b[0m                                 Traceback (most recent call last)",
      "Cell \u001b[1;32mIn[4], line 10\u001b[0m\n\u001b[0;32m      1\u001b[0m create_table_query \u001b[38;5;241m=\u001b[39m \u001b[38;5;124m\"\"\"\u001b[39m\n\u001b[0;32m      2\u001b[0m \n\u001b[0;32m      3\u001b[0m \u001b[38;5;124mCREATE TABLE BusinessEntity (\u001b[39m\n\u001b[0;32m      4\u001b[0m \u001b[38;5;124m    BusinessEntityID int PRIMARY KEY\u001b[39m\n\u001b[0;32m      5\u001b[0m \u001b[38;5;124m);\u001b[39m\n\u001b[0;32m      6\u001b[0m \u001b[38;5;124m\"\"\"\u001b[39m\n\u001b[0;32m      8\u001b[0m \u001b[38;5;66;03m# Create the table in SQL Server\u001b[39;00m\n\u001b[0;32m      9\u001b[0m \u001b[38;5;66;03m# db_name = \"testDB\"\u001b[39;00m\n\u001b[1;32m---> 10\u001b[0m conn, cursor \u001b[38;5;241m=\u001b[39m \u001b[43mcreate_connection\u001b[49m\u001b[43m(\u001b[49m\u001b[43m)\u001b[49m\n\u001b[0;32m     11\u001b[0m cursor\u001b[38;5;241m.\u001b[39mexecute(create_table_query)\n\u001b[0;32m     12\u001b[0m conn\u001b[38;5;241m.\u001b[39mcommit()\n",
      "File \u001b[1;32mc:\\Studie\\deds_proj_groep1\\2_Data_Warehouse\\utils\\database_utils.py:22\u001b[0m, in \u001b[0;36mcreate_connection\u001b[1;34m()\u001b[0m\n\u001b[0;32m     20\u001b[0m \u001b[38;5;28;01mtry\u001b[39;00m:\n\u001b[0;32m     21\u001b[0m     DB \u001b[38;5;241m=\u001b[39m {\u001b[38;5;124m'\u001b[39m\u001b[38;5;124mservername\u001b[39m\u001b[38;5;124m'\u001b[39m: os\u001b[38;5;241m.\u001b[39mgetenv(\u001b[38;5;124m'\u001b[39m\u001b[38;5;124mDB_SERVERNAME\u001b[39m\u001b[38;5;124m'\u001b[39m), \u001b[38;5;124m'\u001b[39m\u001b[38;5;124mdatabase\u001b[39m\u001b[38;5;124m'\u001b[39m: os\u001b[38;5;241m.\u001b[39mgetenv(\u001b[38;5;124m'\u001b[39m\u001b[38;5;124mDB_NAME\u001b[39m\u001b[38;5;124m'\u001b[39m)}\n\u001b[1;32m---> 22\u001b[0m     export_conn \u001b[38;5;241m=\u001b[39m pyodbc\u001b[38;5;241m.\u001b[39mconnect(\u001b[38;5;124;43m'\u001b[39;49m\u001b[38;5;124;43mDRIVER=\u001b[39;49m\u001b[38;5;124;43m{\u001b[39;49m\u001b[38;5;124;43mSQL Server};SERVER=\u001b[39;49m\u001b[38;5;124;43m'\u001b[39;49m\u001b[43m \u001b[49m\u001b[38;5;241;43m+\u001b[39;49m\u001b[43m \u001b[49m\u001b[43mDB\u001b[49m\u001b[43m[\u001b[49m\u001b[38;5;124;43m'\u001b[39;49m\u001b[38;5;124;43mservername\u001b[39;49m\u001b[38;5;124;43m'\u001b[39;49m\u001b[43m]\u001b[49m \u001b[38;5;241m+\u001b[39m \u001b[38;5;124m'\u001b[39m\u001b[38;5;124m;DATABASE=\u001b[39m\u001b[38;5;124m'\u001b[39m \u001b[38;5;241m+\u001b[39m DB[\u001b[38;5;124m'\u001b[39m\u001b[38;5;124mdatabase\u001b[39m\u001b[38;5;124m'\u001b[39m] \u001b[38;5;241m+\u001b[39m \u001b[38;5;124m'\u001b[39m\u001b[38;5;124m;UID=\u001b[39m\u001b[38;5;124m'\u001b[39m \u001b[38;5;241m+\u001b[39m os\u001b[38;5;241m.\u001b[39mgetenv(\u001b[38;5;124m'\u001b[39m\u001b[38;5;124mDB_USERNAME\u001b[39m\u001b[38;5;124m'\u001b[39m) \u001b[38;5;241m+\u001b[39m \u001b[38;5;124m'\u001b[39m\u001b[38;5;124m;PWD=\u001b[39m\u001b[38;5;124m'\u001b[39m \u001b[38;5;241m+\u001b[39m os\u001b[38;5;241m.\u001b[39mgetenv(\u001b[38;5;124m'\u001b[39m\u001b[38;5;124mDB_PASSWORD\u001b[39m\u001b[38;5;124m'\u001b[39m))\n\u001b[0;32m     23\u001b[0m     export_cursor \u001b[38;5;241m=\u001b[39m export_conn\u001b[38;5;241m.\u001b[39mcursor()\n\u001b[0;32m     24\u001b[0m     \u001b[38;5;28;01mreturn\u001b[39;00m export_conn, export_cursor\n",
      "\u001b[1;31mTypeError\u001b[0m: can only concatenate str (not \"NoneType\") to str"
     ]
    }
   ],
   "source": [
    "create_table_query = \"\"\"\n",
    "\n",
    "CREATE TABLE BusinessEntity (\n",
    "    BusinessEntityID int PRIMARY KEY\n",
    ");\n",
    "\"\"\"\n",
    "\n",
    "# Create the table in SQL Server\n",
    "# db_name = \"testDB\"\n",
    "conn, cursor = create_connection()\n",
    "cursor.execute(create_table_query)\n",
    "conn.commit()\n",
    "conn.close()"
   ]
  },
  {
   "cell_type": "markdown",
   "metadata": {},
   "source": [
    "#### 3 - Data loading"
   ]
  },
  {
   "cell_type": "markdown",
   "metadata": {},
   "source": [
    "Na het transformeren van de data, kunnen we de resulterende dataframe in de doeltabel van ons datawarehouse laden."
   ]
  },
  {
   "cell_type": "code",
   "execution_count": null,
   "metadata": {},
   "outputs": [],
   "source": [
    "# Verbinding maken met de database\n",
    "test_database_name = 'testDB'\n",
    "conn, cursor = create_connection(test_database_name)\n",
    "\n",
    "for index, row in filtered_df.iterrows():\n",
    "    # Opstellen van de SQL-invoegquery\n",
    "    query = f\"\"\"\n",
    "        INSERT INTO BusinessEntity (\n",
    "        BusinessEntityID\n",
    "        ) \n",
    "        VALUES (\n",
    "        {row['BusinessEntityID']}\n",
    "        )\n",
    "    \"\"\"\n",
    "    # Uitvoeren van de query\n",
    "    cursor.execute(query)\n",
    "\n",
    "conn.commit()\n",
    "conn.close()"
   ]
  },
  {
   "cell_type": "markdown",
   "metadata": {},
   "source": [
    "**Note:** Voeg indien nodig zoveel Markdown- of codeblokken toe als nodig is."
   ]
  },
  {
   "cell_type": "markdown",
   "metadata": {},
   "source": [
    "#### 4 -  Data Quality Checks"
   ]
  },
  {
   "cell_type": "markdown",
   "metadata": {},
   "source": [
    "Voeg controles toe om de kwaliteit van de gegevens te waarborgen voordat ze worden geladen in het datawarehouse:"
   ]
  },
  {
   "cell_type": "code",
   "execution_count": null,
   "metadata": {},
   "outputs": [],
   "source": [
    "# Controleren op ontbrekende waarden\n",
    "missing_values = filtered_df.isnull().sum()\n",
    "\n",
    "# Controleren op duplicaten\n",
    "duplicate_rows = filtered_df.duplicated().sum()\n",
    "\n",
    "# Weergave van resultaten\n",
    "print(\"Aantal ontbrekende waarden:\", missing_values)\n",
    "print(\"Aantal duplicaten:\", duplicate_rows)"
   ]
  },
  {
   "cell_type": "markdown",
   "metadata": {},
   "source": [
    "**Note:** Dit is optioneel, het leek mij opzich best handig om te doen."
   ]
  }
 ],
 "metadata": {
  "kernelspec": {
   "display_name": "deds-proj-groep1-beKqzd2--py3.12",
   "language": "python",
   "name": "python3"
  },
  "language_info": {
   "codemirror_mode": {
    "name": "ipython",
    "version": 3
   },
   "file_extension": ".py",
   "mimetype": "text/x-python",
   "name": "python",
   "nbconvert_exporter": "python",
   "pygments_lexer": "ipython3",
   "version": "3.12.2"
  }
 },
 "nbformat": 4,
 "nbformat_minor": 2
}
