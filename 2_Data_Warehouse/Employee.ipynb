{
 "cells": [
  {
   "cell_type": "markdown",
   "metadata": {},
   "source": [
    "# - Data Warehouse -"
   ]
  },
  {
   "cell_type": "markdown",
   "metadata": {},
   "source": [
    "### Het samenvoegen van bestaande tabellen voor het uiteindelijke 'Datawarehouse'"
   ]
  },
  {
   "cell_type": "markdown",
   "metadata": {
    "vscode": {
     "languageId": "plaintext"
    }
   },
   "source": [
    "##### Importeren van benodigde dependencies"
   ]
  },
  {
   "cell_type": "code",
   "execution_count": 1,
   "metadata": {},
   "outputs": [],
   "source": [
    "import pandas as pd\n",
    "import pyodbc\n",
    "\n",
    "import warnings\n",
    "warnings.filterwarnings(\"ignore\")\n",
    "\n",
    "# Importeren van de create_connection en run_query functies uit de database_utils.py file\n",
    "from utils.database_utils import create_connection, run_query, create_connectionLocal"
   ]
  },
  {
   "cell_type": "markdown",
   "metadata": {},
   "source": [
    "##### 1 - Opbouwen van dataframes voor elke database-tabel"
   ]
  },
  {
   "cell_type": "code",
   "execution_count": 2,
   "metadata": {},
   "outputs": [
    {
     "ename": "DatabaseError",
     "evalue": "Execution failed on sql 'SELECT * FROM EmployeeData': ('42S02', \"[42S02] [Microsoft][ODBC SQL Server Driver][SQL Server]Invalid object name 'EmployeeData'. (208) (SQLExecDirectW)\")",
     "output_type": "error",
     "traceback": [
      "\u001b[1;31m---------------------------------------------------------------------------\u001b[0m",
      "\u001b[1;31mProgrammingError\u001b[0m                          Traceback (most recent call last)",
      "File \u001b[1;32mc:\\Users\\tris9\\AppData\\Local\\pypoetry\\Cache\\virtualenvs\\deds-proj-groep1-n18u0BM0-py3.12\\Lib\\site-packages\\pandas\\io\\sql.py:2674\u001b[0m, in \u001b[0;36mSQLiteDatabase.execute\u001b[1;34m(self, sql, params)\u001b[0m\n\u001b[0;32m   2673\u001b[0m \u001b[38;5;28;01mtry\u001b[39;00m:\n\u001b[1;32m-> 2674\u001b[0m     \u001b[43mcur\u001b[49m\u001b[38;5;241;43m.\u001b[39;49m\u001b[43mexecute\u001b[49m\u001b[43m(\u001b[49m\u001b[43msql\u001b[49m\u001b[43m,\u001b[49m\u001b[43m \u001b[49m\u001b[38;5;241;43m*\u001b[39;49m\u001b[43margs\u001b[49m\u001b[43m)\u001b[49m\n\u001b[0;32m   2675\u001b[0m     \u001b[38;5;28;01mreturn\u001b[39;00m cur\n",
      "\u001b[1;31mProgrammingError\u001b[0m: ('42S02', \"[42S02] [Microsoft][ODBC SQL Server Driver][SQL Server]Invalid object name 'EmployeeData'. (208) (SQLExecDirectW)\")",
      "\nThe above exception was the direct cause of the following exception:\n",
      "\u001b[1;31mDatabaseError\u001b[0m                             Traceback (most recent call last)",
      "Cell \u001b[1;32mIn[2], line 3\u001b[0m\n\u001b[0;32m      1\u001b[0m aenc_employee_df \u001b[38;5;241m=\u001b[39m run_query(\u001b[38;5;124m\"\u001b[39m\u001b[38;5;124mSELECT * FROM employee\u001b[39m\u001b[38;5;124m\"\u001b[39m, \u001b[38;5;124m\"\u001b[39m\u001b[38;5;124mAenC\u001b[39m\u001b[38;5;124m\"\u001b[39m)\n\u001b[1;32m----> 3\u001b[0m aw_employee_df \u001b[38;5;241m=\u001b[39m \u001b[43mrun_query\u001b[49m\u001b[43m(\u001b[49m\u001b[38;5;124;43m\"\u001b[39;49m\u001b[38;5;124;43mSELECT * FROM EmployeeData\u001b[39;49m\u001b[38;5;124;43m\"\u001b[39;49m\u001b[43m,\u001b[49m\u001b[43m \u001b[49m\u001b[38;5;124;43m\"\u001b[39;49m\u001b[38;5;124;43mAdventureWorks2019\u001b[39;49m\u001b[38;5;124;43m\"\u001b[39;49m\u001b[43m)\u001b[49m\n\u001b[0;32m      5\u001b[0m nw_employee_df \u001b[38;5;241m=\u001b[39m run_query(\u001b[38;5;124m\"\u001b[39m\u001b[38;5;124mSELECT * FROM Employees\u001b[39m\u001b[38;5;124m\"\u001b[39m, \u001b[38;5;124m\"\u001b[39m\u001b[38;5;124mNorthwind\u001b[39m\u001b[38;5;124m\"\u001b[39m)\n",
      "File \u001b[1;32mc:\\Studie\\deds_proj_groep1\\2_Data_Warehouse\\utils\\database_utils.py:35\u001b[0m, in \u001b[0;36mrun_query\u001b[1;34m(query, database_name)\u001b[0m\n\u001b[0;32m     33\u001b[0m conn, cursor \u001b[38;5;241m=\u001b[39m create_connectionLocal(database_name)\n\u001b[0;32m     34\u001b[0m \u001b[38;5;28;01mif\u001b[39;00m \u001b[38;5;124m\"\u001b[39m\u001b[38;5;124mSELECT\u001b[39m\u001b[38;5;124m\"\u001b[39m \u001b[38;5;129;01min\u001b[39;00m query\u001b[38;5;241m.\u001b[39mupper():\n\u001b[1;32m---> 35\u001b[0m     df \u001b[38;5;241m=\u001b[39m \u001b[43mpd\u001b[49m\u001b[38;5;241;43m.\u001b[39;49m\u001b[43mread_sql\u001b[49m\u001b[43m(\u001b[49m\u001b[43mquery\u001b[49m\u001b[43m,\u001b[49m\u001b[43m \u001b[49m\u001b[43mconn\u001b[49m\u001b[43m)\u001b[49m\n\u001b[0;32m     36\u001b[0m     \u001b[38;5;28;01mreturn\u001b[39;00m df\n\u001b[0;32m     37\u001b[0m \u001b[38;5;28;01melse\u001b[39;00m:\n",
      "File \u001b[1;32mc:\\Users\\tris9\\AppData\\Local\\pypoetry\\Cache\\virtualenvs\\deds-proj-groep1-n18u0BM0-py3.12\\Lib\\site-packages\\pandas\\io\\sql.py:706\u001b[0m, in \u001b[0;36mread_sql\u001b[1;34m(sql, con, index_col, coerce_float, params, parse_dates, columns, chunksize, dtype_backend, dtype)\u001b[0m\n\u001b[0;32m    704\u001b[0m \u001b[38;5;28;01mwith\u001b[39;00m pandasSQL_builder(con) \u001b[38;5;28;01mas\u001b[39;00m pandas_sql:\n\u001b[0;32m    705\u001b[0m     \u001b[38;5;28;01mif\u001b[39;00m \u001b[38;5;28misinstance\u001b[39m(pandas_sql, SQLiteDatabase):\n\u001b[1;32m--> 706\u001b[0m         \u001b[38;5;28;01mreturn\u001b[39;00m \u001b[43mpandas_sql\u001b[49m\u001b[38;5;241;43m.\u001b[39;49m\u001b[43mread_query\u001b[49m\u001b[43m(\u001b[49m\n\u001b[0;32m    707\u001b[0m \u001b[43m            \u001b[49m\u001b[43msql\u001b[49m\u001b[43m,\u001b[49m\n\u001b[0;32m    708\u001b[0m \u001b[43m            \u001b[49m\u001b[43mindex_col\u001b[49m\u001b[38;5;241;43m=\u001b[39;49m\u001b[43mindex_col\u001b[49m\u001b[43m,\u001b[49m\n\u001b[0;32m    709\u001b[0m \u001b[43m            \u001b[49m\u001b[43mparams\u001b[49m\u001b[38;5;241;43m=\u001b[39;49m\u001b[43mparams\u001b[49m\u001b[43m,\u001b[49m\n\u001b[0;32m    710\u001b[0m \u001b[43m            \u001b[49m\u001b[43mcoerce_float\u001b[49m\u001b[38;5;241;43m=\u001b[39;49m\u001b[43mcoerce_float\u001b[49m\u001b[43m,\u001b[49m\n\u001b[0;32m    711\u001b[0m \u001b[43m            \u001b[49m\u001b[43mparse_dates\u001b[49m\u001b[38;5;241;43m=\u001b[39;49m\u001b[43mparse_dates\u001b[49m\u001b[43m,\u001b[49m\n\u001b[0;32m    712\u001b[0m \u001b[43m            \u001b[49m\u001b[43mchunksize\u001b[49m\u001b[38;5;241;43m=\u001b[39;49m\u001b[43mchunksize\u001b[49m\u001b[43m,\u001b[49m\n\u001b[0;32m    713\u001b[0m \u001b[43m            \u001b[49m\u001b[43mdtype_backend\u001b[49m\u001b[38;5;241;43m=\u001b[39;49m\u001b[43mdtype_backend\u001b[49m\u001b[43m,\u001b[49m\n\u001b[0;32m    714\u001b[0m \u001b[43m            \u001b[49m\u001b[43mdtype\u001b[49m\u001b[38;5;241;43m=\u001b[39;49m\u001b[43mdtype\u001b[49m\u001b[43m,\u001b[49m\n\u001b[0;32m    715\u001b[0m \u001b[43m        \u001b[49m\u001b[43m)\u001b[49m\n\u001b[0;32m    717\u001b[0m     \u001b[38;5;28;01mtry\u001b[39;00m:\n\u001b[0;32m    718\u001b[0m         _is_table_name \u001b[38;5;241m=\u001b[39m pandas_sql\u001b[38;5;241m.\u001b[39mhas_table(sql)\n",
      "File \u001b[1;32mc:\\Users\\tris9\\AppData\\Local\\pypoetry\\Cache\\virtualenvs\\deds-proj-groep1-n18u0BM0-py3.12\\Lib\\site-packages\\pandas\\io\\sql.py:2738\u001b[0m, in \u001b[0;36mSQLiteDatabase.read_query\u001b[1;34m(self, sql, index_col, coerce_float, parse_dates, params, chunksize, dtype, dtype_backend)\u001b[0m\n\u001b[0;32m   2727\u001b[0m \u001b[38;5;28;01mdef\u001b[39;00m \u001b[38;5;21mread_query\u001b[39m(\n\u001b[0;32m   2728\u001b[0m     \u001b[38;5;28mself\u001b[39m,\n\u001b[0;32m   2729\u001b[0m     sql,\n\u001b[1;32m   (...)\u001b[0m\n\u001b[0;32m   2736\u001b[0m     dtype_backend: DtypeBackend \u001b[38;5;241m|\u001b[39m Literal[\u001b[38;5;124m\"\u001b[39m\u001b[38;5;124mnumpy\u001b[39m\u001b[38;5;124m\"\u001b[39m] \u001b[38;5;241m=\u001b[39m \u001b[38;5;124m\"\u001b[39m\u001b[38;5;124mnumpy\u001b[39m\u001b[38;5;124m\"\u001b[39m,\n\u001b[0;32m   2737\u001b[0m ) \u001b[38;5;241m-\u001b[39m\u001b[38;5;241m>\u001b[39m DataFrame \u001b[38;5;241m|\u001b[39m Iterator[DataFrame]:\n\u001b[1;32m-> 2738\u001b[0m     cursor \u001b[38;5;241m=\u001b[39m \u001b[38;5;28;43mself\u001b[39;49m\u001b[38;5;241;43m.\u001b[39;49m\u001b[43mexecute\u001b[49m\u001b[43m(\u001b[49m\u001b[43msql\u001b[49m\u001b[43m,\u001b[49m\u001b[43m \u001b[49m\u001b[43mparams\u001b[49m\u001b[43m)\u001b[49m\n\u001b[0;32m   2739\u001b[0m     columns \u001b[38;5;241m=\u001b[39m [col_desc[\u001b[38;5;241m0\u001b[39m] \u001b[38;5;28;01mfor\u001b[39;00m col_desc \u001b[38;5;129;01min\u001b[39;00m cursor\u001b[38;5;241m.\u001b[39mdescription]\n\u001b[0;32m   2741\u001b[0m     \u001b[38;5;28;01mif\u001b[39;00m chunksize \u001b[38;5;129;01mis\u001b[39;00m \u001b[38;5;129;01mnot\u001b[39;00m \u001b[38;5;28;01mNone\u001b[39;00m:\n",
      "File \u001b[1;32mc:\\Users\\tris9\\AppData\\Local\\pypoetry\\Cache\\virtualenvs\\deds-proj-groep1-n18u0BM0-py3.12\\Lib\\site-packages\\pandas\\io\\sql.py:2686\u001b[0m, in \u001b[0;36mSQLiteDatabase.execute\u001b[1;34m(self, sql, params)\u001b[0m\n\u001b[0;32m   2683\u001b[0m     \u001b[38;5;28;01mraise\u001b[39;00m ex \u001b[38;5;28;01mfrom\u001b[39;00m \u001b[38;5;21;01minner_exc\u001b[39;00m\n\u001b[0;32m   2685\u001b[0m ex \u001b[38;5;241m=\u001b[39m DatabaseError(\u001b[38;5;124mf\u001b[39m\u001b[38;5;124m\"\u001b[39m\u001b[38;5;124mExecution failed on sql \u001b[39m\u001b[38;5;124m'\u001b[39m\u001b[38;5;132;01m{\u001b[39;00msql\u001b[38;5;132;01m}\u001b[39;00m\u001b[38;5;124m'\u001b[39m\u001b[38;5;124m: \u001b[39m\u001b[38;5;132;01m{\u001b[39;00mexc\u001b[38;5;132;01m}\u001b[39;00m\u001b[38;5;124m\"\u001b[39m)\n\u001b[1;32m-> 2686\u001b[0m \u001b[38;5;28;01mraise\u001b[39;00m ex \u001b[38;5;28;01mfrom\u001b[39;00m \u001b[38;5;21;01mexc\u001b[39;00m\n",
      "\u001b[1;31mDatabaseError\u001b[0m: Execution failed on sql 'SELECT * FROM EmployeeData': ('42S02', \"[42S02] [Microsoft][ODBC SQL Server Driver][SQL Server]Invalid object name 'EmployeeData'. (208) (SQLExecDirectW)\")"
     ]
    }
   ],
   "source": [
    "aenc_employee_df = run_query(\"SELECT * FROM employee\", \"AenC\")\n",
    "\n",
    "aw_employee_df = run_query(\"SELECT * FROM EmployeeData\", \"AdventureWorks2019\")\n",
    "\n",
    "nw_employee_df = run_query(\"SELECT * FROM Employees\", \"Northwind\")"
   ]
  },
  {
   "cell_type": "markdown",
   "metadata": {},
   "source": [
    "Je kunt vergelijkbare queries uitvoeren voor andere tabellen die je wilt opnemen."
   ]
  },
  {
   "cell_type": "markdown",
   "metadata": {},
   "source": [
    "#### 2 - Data transformatie"
   ]
  },
  {
   "cell_type": "markdown",
   "metadata": {},
   "source": [
    "Na het opbouwen van de dataframes voor elke database-tabel, kunnen we beginnen met het transformeren van de data. Dit omvat het samenvoegen van tabellen, het toepassen van filters, het uitvoeren van berekeningen, enzovoort."
   ]
  },
  {
   "cell_type": "code",
   "execution_count": null,
   "metadata": {},
   "outputs": [],
   "source": [
    "# Add a new surrogate key to each dataframe\n",
    "aenc_employee_df['IDSK'] = range(1, len(aenc_employee_df) + 1)\n",
    "aw_employee_df['IDSK'] = range(1, len(aw_employee_df) + 1)\n",
    "nw_employee_df['IDSK'] = range(1, len(nw_employee_df) + 1)"
   ]
  },
  {
   "cell_type": "code",
   "execution_count": 3,
   "metadata": {},
   "outputs": [
    {
     "ename": "TypeError",
     "evalue": "create_connection() takes 0 positional arguments but 1 was given",
     "output_type": "error",
     "traceback": [
      "\u001b[1;31m---------------------------------------------------------------------------\u001b[0m",
      "\u001b[1;31mTypeError\u001b[0m                                 Traceback (most recent call last)",
      "Cell \u001b[1;32mIn[3], line 7\u001b[0m\n\u001b[0;32m      1\u001b[0m alter_table_query \u001b[38;5;241m=\u001b[39m \u001b[38;5;124m\"\"\"\u001b[39m\n\u001b[0;32m      2\u001b[0m \u001b[38;5;124mALTER TABLE EmployeeData\u001b[39m\n\u001b[0;32m      3\u001b[0m \u001b[38;5;124mADD employee_id INT Identity(1,1);\u001b[39m\n\u001b[0;32m      4\u001b[0m \u001b[38;5;124m\"\"\"\u001b[39m\n\u001b[0;32m      6\u001b[0m db_name \u001b[38;5;241m=\u001b[39m \u001b[38;5;124m\"\u001b[39m\u001b[38;5;124madventureworks2019\u001b[39m\u001b[38;5;124m\"\u001b[39m\n\u001b[1;32m----> 7\u001b[0m conn, cursor \u001b[38;5;241m=\u001b[39m \u001b[43mcreate_connection\u001b[49m\u001b[43m(\u001b[49m\u001b[43mdb_name\u001b[49m\u001b[43m)\u001b[49m\n\u001b[0;32m      8\u001b[0m cursor\u001b[38;5;241m.\u001b[39mexecute(alter_table_query)\n\u001b[0;32m      9\u001b[0m conn\u001b[38;5;241m.\u001b[39mcommit()\n",
      "\u001b[1;31mTypeError\u001b[0m: create_connection() takes 0 positional arguments but 1 was given"
     ]
    }
   ],
   "source": [
    "alter_table_query = \"\"\"\n",
    "ALTER TABLE EmployeeData\n",
    "ADD employee_id INT Identity(1,1);\n",
    "\"\"\"\n",
    "\n",
    "db_name = \"adventureworks2019\"\n",
    "conn, cursor = create_connectionLocal(db_name)\n",
    "cursor.execute(alter_table_query)\n",
    "conn.commit()\n",
    "conn.close()"
   ]
  },
  {
   "cell_type": "code",
   "execution_count": null,
   "metadata": {},
   "outputs": [],
   "source": [
    "create_table_query = \"\"\"\n",
    "CREATE TABLE EmployeeData (\n",
    "    IDSK INT PRIMARY KEY,\n",
    "    employee_id VARCHAR(255),\n",
    "    fname VARCHAR(255),\n",
    "    lname VARCHAR(255),\n",
    "    employee_title VARCHAR(255),\n",
    "    birthdate DATE,\n",
    "    address VARCHAR(255),\n",
    "    city VARCHAR(255),\n",
    "    phone_number VARCHAR(255),\n",
    "    hiredate DATE,\n",
    "    department_id VARCHAR(255),  \n",
    ");\n",
    "\"\"\"\n",
    "\n",
    "# Create the table in SQL Server\n",
    "db_name = \"test\"\n",
    "conn, cursor = create_connection(db_name)\n",
    "cursor.execute(create_table_query)\n",
    "conn.commit()\n",
    "conn.close()"
   ]
  },
  {
   "cell_type": "code",
   "execution_count": null,
   "metadata": {},
   "outputs": [],
   "source": [
    "aw_employee_df\n",
    "\n",
    "# Select the relevante columns from each table\n",
    "nw_employee_df = nw_employee_df[['EmployeeID', 'LastName', 'FirstName', 'Title', 'BirthDate', 'HireDate', 'Address', 'City', 'HomePhone']]\n",
    "aenc_employee_df = aenc_employee_df[['emp_id', 'emp_fname', 'emp_lname', 'dept_id', 'street','phone', 'start_date', 'birth_date', 'sex']]\n",
    "aw_employee_df = aw_employee_df[['BusinessEntityID', 'NationalIDNumber', 'JobTitle', 'BirthDate', 'Gender', 'HireDate', 'DepartmentID', 'employee_id']]\n",
    "\n",
    "# Add a new surrogate key to each dataframe\n",
    "nw_employee_df['IDSK'] = range(1, len(nw_employee_df) + 1)\n",
    "aenc_employee_df['IDSK'] = range(1, len(aenc_employee_df) + 1)\n",
    "aw_employee_df['IDSK'] = range(1, len(aw_employee_df) + 1)\n",
    "\n",
    "# Merge the dataframes on the new key\n",
    "merged_df = pd.merge(aenc_employee_df, aw_employee_df, on=\"IDSK\", how=\"outer\")\n",
    "merged_df = pd.merge(merged_df, nw_employee_df, on=\"IDSK\", how=\"outer\")\n",
    "\n",
    "# Reset the index and start from 1\n",
    "merged_df.reset_index(drop=True, inplace=True)\n",
    "merged_df.index = merged_df.index + 1\n",
    "\n",
    "# Rename the index to 'PrimaryKey'\n",
    "merged_df.index.name = 'IDSK'\n",
    "\n",
    "merged_df.columns"
   ]
  },
  {
   "cell_type": "code",
   "execution_count": null,
   "metadata": {},
   "outputs": [],
   "source": [
    "# Combineer kolommen met vergelijkbare informatie\n",
    "merged_df['EmployeeID'] = merged_df['EmployeeID'].combine_first(merged_df['emp_id']).combine_first(merged_df['employee_id'])\n",
    "merged_df['FirstName'] = merged_df['FirstName'].combine_first(merged_df['emp_fname'])\n",
    "merged_df['LastName'] = merged_df['LastName'].combine_first(merged_df['emp_lname'])\n",
    "merged_df['Address'] = merged_df['Address'].combine_first(merged_df['street'])\n",
    "merged_df['HomePhone'] = merged_df['HomePhone'].combine_first(merged_df['phone'])\n",
    "merged_df['BirthDate'] = merged_df['BirthDate_x'].combine_first(merged_df['BirthDate_y']).combine_first(merged_df['birth_date'])\n",
    "merged_df['HireDate'] = merged_df['HireDate_x'].combine_first(merged_df['HireDate_y']).combine_first(merged_df['start_date'])\n",
    "merged_df['EmployeeTitle'] = merged_df['JobTitle'].combine_first(merged_df['JobTitle']).combine_first(merged_df['Title'])\n",
    "merged_df['DepartmentID'] = merged_df['DepartmentID'].combine_first(merged_df['dept_id'])\n",
    "# Verwijder de originele kolommen die nu samengevoegd zijn\n",
    "columns_to_drop = ['emp_id', 'emp_fname', 'emp_lname', 'employee_id', 'phone', 'street', 'birth_date', 'start_date', 'BirthDate_x', 'BirthDate_y', 'HireDate_x', 'HireDate_y']\n",
    "merged_df.drop(columns=columns_to_drop, inplace=True)\n",
    "\n",
    "# Controleer de uiteindelijke kolommen\n",
    "print(merged_df.columns)\n",
    "print(merged_df.head())"
   ]
  },
  {
   "cell_type": "code",
   "execution_count": null,
   "metadata": {},
   "outputs": [],
   "source": [
    "# Vervang NaN-waarden door SQL NULL-sleutelwoord\n",
    "merged_df = merged_df.where(pd.notnull(merged_df), None)"
   ]
  },
  {
   "cell_type": "markdown",
   "metadata": {},
   "source": [
    "#### 3 - Data loading"
   ]
  },
  {
   "cell_type": "markdown",
   "metadata": {},
   "source": [
    "Na het transformeren van de data, kunnen we de resulterende dataframe in de doeltabel van ons datawarehouse laden."
   ]
  },
  {
   "cell_type": "code",
   "execution_count": null,
   "metadata": {},
   "outputs": [],
   "source": [
    "# Connect to the database\n",
    "conn, cursor = create_connection('test')\n",
    "\n",
    "for index, row in merged_df.iterrows():\n",
    "    query = f\"\"\"\n",
    "        INSERT INTO EmployeeData (\n",
    "            IDSK, employee_id, fname, lname, employee_title, birthdate, address, city, phone_number, hiredate, department_id\n",
    "        ) \n",
    "        VALUES (\n",
    "            {row['IDSK']}, '{row['EmployeeID']}', '{row['FirstName']}', '{row['LastName']}', '{row['Title']}', '{row['BirthDate']}', '{row['Address']}', '{row['City']}', '{row['HomePhone']}', '{row['HireDate']}', '{row['dept_id']}'\n",
    "        )\n",
    "    \"\"\"\n",
    "    # Execute the query\n",
    "    cursor.execute(query)\n",
    "\n",
    "# Commit the changes and close the connection\n",
    "conn.commit()\n",
    "conn.close()"
   ]
  },
  {
   "cell_type": "markdown",
   "metadata": {},
   "source": [
    "**Note:** Voeg indien nodig zoveel Markdown- of codeblokken toe als nodig is."
   ]
  },
  {
   "cell_type": "markdown",
   "metadata": {},
   "source": [
    "#### 4 -  Data Quality Checks"
   ]
  },
  {
   "cell_type": "markdown",
   "metadata": {},
   "source": [
    "Voeg controles toe om de kwaliteit van de gegevens te waarborgen voordat ze worden geladen in het datawarehouse:"
   ]
  },
  {
   "cell_type": "code",
   "execution_count": null,
   "metadata": {},
   "outputs": [],
   "source": [
    "# Controleren op ontbrekende waarden\n",
    "missing_values = merged_df.isnull().sum()\n",
    "\n",
    "# Controleren op duplicaten\n",
    "duplicate_rows = merged_df.duplicated().sum()\n",
    "\n",
    "# Weergave van resultaten\n",
    "print(\"Aantal ontbrekende waarden:\", missing_values)\n",
    "print(\"Aantal duplicaten:\", duplicate_rows)"
   ]
  },
  {
   "cell_type": "markdown",
   "metadata": {},
   "source": [
    "**Note:** Dit is optioneel, het leek mij opzich best handig om te doen."
   ]
  }
 ],
 "metadata": {
  "kernelspec": {
   "display_name": "deds-proj-groep1-beKqzd2--py3.12",
   "language": "python",
   "name": "python3"
  },
  "language_info": {
   "codemirror_mode": {
    "name": "ipython",
    "version": 3
   },
   "file_extension": ".py",
   "mimetype": "text/x-python",
   "name": "python",
   "nbconvert_exporter": "python",
   "pygments_lexer": "ipython3",
   "version": "3.12.2"
  }
 },
 "nbformat": 4,
 "nbformat_minor": 2
}
