{
 "cells": [
  {
   "cell_type": "markdown",
   "metadata": {},
   "source": [
    "# - Data Warehouse -"
   ]
  },
  {
   "cell_type": "markdown",
   "metadata": {},
   "source": [
    "### Het samenvoegen van bestaande tabellen voor het uiteindelijke 'Datawarehouse'"
   ]
  },
  {
   "cell_type": "markdown",
   "metadata": {
    "vscode": {
     "languageId": "plaintext"
    }
   },
   "source": [
    "##### Importeren van benodigde dependencies"
   ]
  },
  {
   "cell_type": "code",
   "execution_count": 2,
   "metadata": {},
   "outputs": [],
   "source": [
    "import pandas as pd\n",
    "import pyodbc\n",
    "\n",
    "import warnings\n",
    "warnings.filterwarnings(\"ignore\")\n",
    "\n",
    "# Importeren van de create_connection en run_query functies uit de database_utils.py file\n",
    "from utils.database_utils import create_connection, run_query, create_connectionLocal"
   ]
  },
  {
   "cell_type": "markdown",
   "metadata": {},
   "source": [
    "##### 1 - Opbouwen van dataframes voor elke database-tabel"
   ]
  },
  {
   "cell_type": "code",
   "execution_count": 8,
   "metadata": {},
   "outputs": [],
   "source": [
    "aenc_employee_df = run_query(\"SELECT * FROM employee\", \"AenC\")\n",
    "\n",
    "aw_employee_df = run_query(\"SELECT * FROM EmployeeData\", \"AdventureWorks2019\")\n",
    "\n",
    "nw_employee_df = run_query(\"SELECT * FROM Employees\", \"Northwind\")"
   ]
  },
  {
   "cell_type": "markdown",
   "metadata": {},
   "source": [
    "Je kunt vergelijkbare queries uitvoeren voor andere tabellen die je wilt opnemen."
   ]
  },
  {
   "cell_type": "markdown",
   "metadata": {},
   "source": [
    "#### 2 - Data transformatie"
   ]
  },
  {
   "cell_type": "markdown",
   "metadata": {},
   "source": [
    "Na het opbouwen van de dataframes voor elke database-tabel, kunnen we beginnen met het transformeren van de data. Dit omvat het samenvoegen van tabellen, het toepassen van filters, het uitvoeren van berekeningen, enzovoort."
   ]
  },
  {
   "cell_type": "code",
   "execution_count": 4,
   "metadata": {},
   "outputs": [],
   "source": [
    "# Add a new surrogate key to each dataframe\n",
    "aenc_employee_df['IDSK'] = range(1, len(aenc_employee_df) + 1)\n",
    "aw_employee_df['IDSK'] = range(1, len(aw_employee_df) + 1)\n",
    "nw_employee_df['IDSK'] = range(1, len(nw_employee_df) + 1)"
   ]
  },
  {
   "cell_type": "code",
   "execution_count": 6,
   "metadata": {},
   "outputs": [],
   "source": [
    "alter_table_query = \"\"\"\n",
    "ALTER TABLE EmployeeData\n",
    "ADD employee_id INT Identity(1,1);\n",
    "\"\"\"\n",
    "\n",
    "db_name = \"adventureworks2019\"\n",
    "conn, cursor = create_connectionLocal(db_name)\n",
    "cursor.execute(alter_table_query)\n",
    "conn.commit()\n",
    "conn.close()"
   ]
  },
  {
   "cell_type": "code",
   "execution_count": 85,
   "metadata": {},
   "outputs": [],
   "source": [
    "create_table_query = \"\"\"\n",
    "CREATE TABLE EmployeeData (\n",
    "    IDSK INT PRIMARY KEY,\n",
    "    employee_id VARCHAR(255),\n",
    "    fname VARCHAR(255),\n",
    "    lname VARCHAR(255),\n",
    "    employee_title VARCHAR(255),\n",
    "    birthdate DATE,\n",
    "    address VARCHAR(255),\n",
    "    city VARCHAR(255),\n",
    "    phone_number VARCHAR(255),\n",
    "    hiredate DATE,\n",
    "    department_id VARCHAR(255),  \n",
    ");\n",
    "\"\"\"\n",
    "\n",
    "# Create the table in SQL Server\n",
    "db_name = \"test\"\n",
    "conn, cursor = create_connectionLocal(db_name)\n",
    "cursor.execute(create_table_query)\n",
    "conn.commit()\n",
    "conn.close()"
   ]
  },
  {
   "cell_type": "code",
   "execution_count": 9,
   "metadata": {},
   "outputs": [
    {
     "data": {
      "text/plain": [
       "Index(['emp_id', 'emp_fname', 'emp_lname', 'dept_id', 'street', 'phone',\n",
       "       'start_date', 'birth_date', 'sex', 'IDSK', 'BusinessEntityID',\n",
       "       'NationalIDNumber', 'JobTitle', 'BirthDate_x', 'Gender', 'HireDate_x',\n",
       "       'DepartmentID', 'employee_id', 'EmployeeID', 'LastName', 'FirstName',\n",
       "       'Title', 'BirthDate_y', 'HireDate_y', 'Address', 'City', 'HomePhone'],\n",
       "      dtype='object')"
      ]
     },
     "execution_count": 9,
     "metadata": {},
     "output_type": "execute_result"
    }
   ],
   "source": [
    "aw_employee_df\n",
    "\n",
    "# Select the relevante columns from each table\n",
    "nw_employee_df = nw_employee_df[['EmployeeID', 'LastName', 'FirstName', 'Title', 'BirthDate', 'HireDate', 'Address', 'City', 'HomePhone']]\n",
    "aenc_employee_df = aenc_employee_df[['emp_id', 'emp_fname', 'emp_lname', 'dept_id', 'street','phone', 'start_date', 'birth_date', 'sex']]\n",
    "aw_employee_df = aw_employee_df[['BusinessEntityID', 'NationalIDNumber', 'JobTitle', 'BirthDate', 'Gender', 'HireDate', 'DepartmentID', 'employee_id']]\n",
    "\n",
    "# Add a new surrogate key to each dataframe\n",
    "nw_employee_df['IDSK'] = range(1, len(nw_employee_df) + 1)\n",
    "aenc_employee_df['IDSK'] = range(1, len(aenc_employee_df) + 1)\n",
    "aw_employee_df['IDSK'] = range(1, len(aw_employee_df) + 1)\n",
    "\n",
    "# Merge the dataframes on the new key\n",
    "merged_df = pd.merge(aenc_employee_df, aw_employee_df, on=\"IDSK\", how=\"outer\")\n",
    "merged_df = pd.merge(merged_df, nw_employee_df, on=\"IDSK\", how=\"outer\")\n",
    "\n",
    "# Reset the index and start from 1\n",
    "merged_df.reset_index(drop=True, inplace=True)\n",
    "merged_df.index = merged_df.index + 1\n",
    "\n",
    "# Rename the index to 'PrimaryKey'\n",
    "merged_df.index.name = 'IDSK'\n",
    "\n",
    "merged_df.columns"
   ]
  },
  {
   "cell_type": "code",
   "execution_count": 10,
   "metadata": {},
   "outputs": [
    {
     "name": "stdout",
     "output_type": "stream",
     "text": [
      "Index(['dept_id', 'sex', 'IDSK', 'BusinessEntityID', 'NationalIDNumber',\n",
      "       'JobTitle', 'Gender', 'DepartmentID', 'EmployeeID', 'LastName',\n",
      "       'FirstName', 'Title', 'Address', 'City', 'HomePhone', 'BirthDate',\n",
      "       'HireDate', 'EmployeeTitle'],\n",
      "      dtype='object')\n",
      "     dept_id sex  IDSK  BusinessEntityID NationalIDNumber  \\\n",
      "IDSK                                                        \n",
      "1        500   M     1                 1        295847284   \n",
      "2        100   F     2                 2        245797967   \n",
      "3        200   M     3                 3        509647174   \n",
      "4        200   M     4                 4        112457891   \n",
      "5        100   M     5                 4        112457891   \n",
      "\n",
      "                           JobTitle Gender  DepartmentID EmployeeID  \\\n",
      "IDSK                                                                  \n",
      "1           Chief Executive Officer      M            16        1.0   \n",
      "2     Vice President of Engineering      F             1        2.0   \n",
      "3               Engineering Manager      M             1        3.0   \n",
      "4              Senior Tool Designer      M             1        4.0   \n",
      "5              Senior Tool Designer      M             1        5.0   \n",
      "\n",
      "       LastName FirstName                  Title                    Address  \\\n",
      "IDSK                                                                          \n",
      "1       Davolio     Nancy   Sales Representative  507 - 20th Ave. E.Apt. 2A   \n",
      "2        Fuller    Andrew  Vice President, Sales         908 W. Capital Way   \n",
      "3     Leverling     Janet   Sales Representative         722 Moss Bay Blvd.   \n",
      "4       Peacock  Margaret   Sales Representative       4110 Old Redmond Rd.   \n",
      "5      Buchanan    Steven          Sales Manager            14 Garrett Hill   \n",
      "\n",
      "          City       HomePhone   BirthDate    HireDate  \\\n",
      "IDSK                                                     \n",
      "1      Seattle  (206) 555-9857  1969-01-29  2009-01-14   \n",
      "2       Tacoma  (206) 555-9482  1971-08-01  2008-01-31   \n",
      "3     Kirkland  (206) 555-3412  1974-11-12  2007-11-11   \n",
      "4      Redmond  (206) 555-8122  1974-12-23  2007-12-05   \n",
      "5       London   (71) 555-4848  1974-12-23  2007-12-05   \n",
      "\n",
      "                      EmployeeTitle  \n",
      "IDSK                                 \n",
      "1           Chief Executive Officer  \n",
      "2     Vice President of Engineering  \n",
      "3               Engineering Manager  \n",
      "4              Senior Tool Designer  \n",
      "5              Senior Tool Designer  \n"
     ]
    }
   ],
   "source": [
    "# Combineer kolommen met vergelijkbare informatie\n",
    "merged_df['EmployeeID'] = merged_df['EmployeeID'].combine_first(merged_df['emp_id']).combine_first(merged_df['employee_id'])\n",
    "merged_df['FirstName'] = merged_df['FirstName'].combine_first(merged_df['emp_fname'])\n",
    "merged_df['LastName'] = merged_df['LastName'].combine_first(merged_df['emp_lname'])\n",
    "merged_df['Address'] = merged_df['Address'].combine_first(merged_df['street'])\n",
    "merged_df['HomePhone'] = merged_df['HomePhone'].combine_first(merged_df['phone'])\n",
    "merged_df['BirthDate'] = merged_df['BirthDate_x'].combine_first(merged_df['BirthDate_y']).combine_first(merged_df['birth_date'])\n",
    "merged_df['HireDate'] = merged_df['HireDate_x'].combine_first(merged_df['HireDate_y']).combine_first(merged_df['start_date'])\n",
    "merged_df['EmployeeTitle'] = merged_df['JobTitle'].combine_first(merged_df['JobTitle']).combine_first(merged_df['Title'])\n",
    "merged_df['DepartmentID'] = merged_df['DepartmentID'].combine_first(merged_df['dept_id'])\n",
    "# Verwijder de originele kolommen die nu samengevoegd zijn\n",
    "columns_to_drop = ['emp_id', 'emp_fname', 'emp_lname', 'employee_id', 'phone', 'street', 'birth_date', 'start_date', 'BirthDate_x', 'BirthDate_y', 'HireDate_x', 'HireDate_y']\n",
    "merged_df.drop(columns=columns_to_drop, inplace=True)\n",
    "\n",
    "# Controleer de uiteindelijke kolommen\n",
    "print(merged_df.columns)\n",
    "print(merged_df.head())"
   ]
  },
  {
   "cell_type": "code",
   "execution_count": 11,
   "metadata": {},
   "outputs": [],
   "source": [
    "# Vervang NaN-waarden door SQL NULL-sleutelwoord\n",
    "merged_df = merged_df.where(pd.notnull(merged_df), None)"
   ]
  },
  {
   "cell_type": "markdown",
   "metadata": {},
   "source": [
    "#### 3 - Data loading"
   ]
  },
  {
   "cell_type": "markdown",
   "metadata": {},
   "source": [
    "Na het transformeren van de data, kunnen we de resulterende dataframe in de doeltabel van ons datawarehouse laden."
   ]
  },
  {
   "cell_type": "code",
   "execution_count": 95,
   "metadata": {},
   "outputs": [],
   "source": [
    "# Connect to the database\n",
    "conn, cursor = create_connection('test')\n",
    "\n",
    "for index, row in merged_df.iterrows():\n",
    "    query = f\"\"\"\n",
    "        INSERT INTO EmployeeData (\n",
    "            IDSK, employee_id, fname, lname, employee_title, birthdate, address, city, phone_number, hiredate, department_id\n",
    "        ) \n",
    "        VALUES (\n",
    "            {row['IDSK']}, '{row['EmployeeID']}', '{row['FirstName']}', '{row['LastName']}', '{row['Title']}', '{row['BirthDate']}', '{row['Address']}', '{row['City']}', '{row['HomePhone']}', '{row['HireDate']}', '{row['dept_id']}'\n",
    "        )\n",
    "    \"\"\"\n",
    "    # Execute the query\n",
    "    cursor.execute(query)\n",
    "\n",
    "# Commit the changes and close the connection\n",
    "conn.commit()\n",
    "conn.close()"
   ]
  },
  {
   "cell_type": "markdown",
   "metadata": {},
   "source": [
    "**Note:** Voeg indien nodig zoveel Markdown- of codeblokken toe als nodig is."
   ]
  },
  {
   "cell_type": "markdown",
   "metadata": {},
   "source": [
    "#### 4 -  Data Quality Checks"
   ]
  },
  {
   "cell_type": "markdown",
   "metadata": {},
   "source": [
    "Voeg controles toe om de kwaliteit van de gegevens te waarborgen voordat ze worden geladen in het datawarehouse:"
   ]
  },
  {
   "cell_type": "code",
   "execution_count": null,
   "metadata": {},
   "outputs": [
    {
     "name": "stdout",
     "output_type": "stream",
     "text": [
      "Aantal ontbrekende waarden: emp_id              259\n",
      "emp_fname           259\n",
      "emp_lname           259\n",
      "dept_id             259\n",
      "street              259\n",
      "phone               259\n",
      "start_date          259\n",
      "birth_date          259\n",
      "sex                 259\n",
      "IDSK                  0\n",
      "BusinessEntityID      0\n",
      "NationalIDNumber      0\n",
      "JobTitle              0\n",
      "BirthDate_x           0\n",
      "Gender                0\n",
      "HireDate_x            0\n",
      "DepartmentID          0\n",
      "employee_id           0\n",
      "EmployeeID          325\n",
      "LastName            325\n",
      "FirstName           325\n",
      "Title               325\n",
      "BirthDate_y         325\n",
      "HireDate_y          325\n",
      "Address             325\n",
      "City                325\n",
      "HomePhone           325\n",
      "dtype: int64\n",
      "Aantal duplicaten: 0\n"
     ]
    }
   ],
   "source": [
    "# Controleren op ontbrekende waarden\n",
    "missing_values = merged_df.isnull().sum()\n",
    "\n",
    "# Controleren op duplicaten\n",
    "duplicate_rows = merged_df.duplicated().sum()\n",
    "\n",
    "# Weergave van resultaten\n",
    "print(\"Aantal ontbrekende waarden:\", missing_values)\n",
    "print(\"Aantal duplicaten:\", duplicate_rows)"
   ]
  },
  {
   "cell_type": "markdown",
   "metadata": {},
   "source": [
    "**Note:** Dit is optioneel, het leek mij opzich best handig om te doen."
   ]
  }
 ],
 "metadata": {
  "kernelspec": {
   "display_name": "deds-proj-groep1-beKqzd2--py3.12",
   "language": "python",
   "name": "python3"
  },
  "language_info": {
   "codemirror_mode": {
    "name": "ipython",
    "version": 3
   },
   "file_extension": ".py",
   "mimetype": "text/x-python",
   "name": "python",
   "nbconvert_exporter": "python",
   "pygments_lexer": "ipython3",
   "version": "3.12.2"
  }
 },
 "nbformat": 4,
 "nbformat_minor": 2
}
