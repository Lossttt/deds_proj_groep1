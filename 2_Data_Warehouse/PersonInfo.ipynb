{
 "cells": [
  {
   "cell_type": "markdown",
   "metadata": {},
   "source": [
    "# - Data Warehouse -"
   ]
  },
  {
   "cell_type": "markdown",
   "metadata": {},
   "source": [
    "### Het samenvoegen van bestaande tabellen voor het uiteindelijke 'Datawarehouse'"
   ]
  },
  {
   "cell_type": "markdown",
   "metadata": {
    "vscode": {
     "languageId": "plaintext"
    }
   },
   "source": [
    "##### Importeren van benodigde dependencies"
   ]
  },
  {
   "cell_type": "code",
   "execution_count": null,
   "metadata": {},
   "outputs": [],
   "source": [
    "import pandas as pd\n",
    "import pyodbc\n",
    "\n",
    "import warnings\n",
    "warnings.filterwarnings(\"ignore\")\n",
    "\n",
    "# Importeren van de create_connection en run_query functies uit de database_utils.py file\n",
    "from utils.database_utils import create_connection, run_query"
   ]
  },
  {
   "cell_type": "markdown",
   "metadata": {},
   "source": [
    "##### 1 - Opbouwen van dataframes voor elke database-tabel"
   ]
  },
  {
   "cell_type": "code",
   "execution_count": null,
   "metadata": {},
   "outputs": [],
   "source": [
    "\n",
    "aw_PersonDF= run_query(\"SELECT * FROM Person.person\", \"AdventureWorks2019\")\n",
    "aw_EmailAdressDF= run_query(\"SELECT * FROM Person.EmailAddress\", \"AdventureWorks2019\")\n",
    "aw_PasswordDF= run_query(\"SELECT * FROM Person.Password\", \"AdventureWorks2019\")\n",
    "\n",
    "print(aw_PersonDF.columns)\n",
    "print(aw_EmailAdressDF.columns)\n",
    "print(aw_PasswordDF.columns)\n",
    "\n"
   ]
  },
  {
   "cell_type": "markdown",
   "metadata": {},
   "source": [
    "Je kunt vergelijkbare queries uitvoeren voor andere tabellen die je wilt opnemen."
   ]
  },
  {
   "cell_type": "markdown",
   "metadata": {},
   "source": [
    "#### 2 - Data transformatie"
   ]
  },
  {
   "cell_type": "markdown",
   "metadata": {},
   "source": [
    "Na het opbouwen van de dataframes voor elke database-tabel, kunnen we beginnen met het transformeren van de data. Dit omvat het samenvoegen van tabellen, het toepassen van filters, het uitvoeren van berekeningen, enzovoort."
   ]
  },
  {
   "cell_type": "code",
   "execution_count": null,
   "metadata": {},
   "outputs": [],
   "source": [
    "# Merge aw_PersonDF and aw_EmailAdressDF\n",
    "aw_PersonDF.drop(columns=['rowguid', 'ModifiedDate'], inplace=True)\n",
    "aw_EmailAdressDF.drop(columns=['rowguid', 'ModifiedDate'], inplace=True)\n",
    "aw_PasswordDF.drop(columns=['rowguid', 'ModifiedDate'], inplace=True)\n",
    "\n",
    "\n",
    "merged_df = pd.merge(aw_PersonDF, aw_EmailAdressDF, on='BusinessEntityID')\n",
    "merged_df = pd.merge(merged_df, aw_PasswordDF, on='BusinessEntityID')\n",
    "\n",
    "filtered_df = merged_df\n",
    "filtered_df\n"
   ]
  },
  {
   "cell_type": "code",
   "execution_count": null,
   "metadata": {},
   "outputs": [],
   "source": [
    "create_table_query = \"\"\"\n",
    "\n",
    "CREATE TABLE PersonInfo (\n",
    "    BusinessEntityID int PRIMARY KEY,\n",
    "    PersonType nchar(5),\n",
    "    NameStyle bit,\n",
    "    Title nvarchar(max),\n",
    "    FirstName nvarchar(max),\n",
    "    MiddleName nvarchar(max),\n",
    "    LastName nvarchar(max),\n",
    "    Suffix nvarchar(max),\n",
    "    EmailPromotion int,\n",
    "    AdditionalContactInfo xml,\n",
    "    Demographics xml,\n",
    "    EmailAddressID int,\n",
    "    EmailAddress nvarchar(max),\n",
    "    PasswordHash varchar(max),\n",
    "    PasswordSalt varchar(max)\n",
    ");\n",
    "\"\"\"\n",
    "\n",
    "# Create the table in SQL Server\n",
    "db_name = \"testDB\"\n",
    "conn, cursor = create_connection(db_name)\n",
    "cursor.execute(create_table_query)\n",
    "conn.commit()\n",
    "conn.close()"
   ]
  },
  {
   "cell_type": "markdown",
   "metadata": {},
   "source": [
    "#### 3 - Data loading"
   ]
  },
  {
   "cell_type": "markdown",
   "metadata": {},
   "source": [
    "Na het transformeren van de data, kunnen we de resulterende dataframe in de doeltabel van ons datawarehouse laden."
   ]
  },
  {
   "cell_type": "code",
   "execution_count": null,
   "metadata": {},
   "outputs": [],
   "source": [
    "# Verbinding maken met de database\n",
    "test_database_name = 'testDB'\n",
    "conn, cursor = create_connection(test_database_name)\n",
    "\n",
    "for index, row in filtered_df.iterrows():\n",
    "    NameStyle = 1 if row['NameStyle'] else 0\n",
    "\n",
    "    # Replace single quotes in the data\n",
    "    title = row['Title'].replace(\"'\", \"''\") if row['Title'] else None\n",
    "    first_name = row['FirstName'].replace(\"'\", \"''\") if row['FirstName'] else None\n",
    "    middle_name = row['MiddleName'].replace(\"'\", \"''\") if row['MiddleName'] else None\n",
    "    last_name = row['LastName'].replace(\"'\", \"''\") if row['LastName'] else None\n",
    "    suffix = row['Suffix'].replace(\"'\", \"''\") if row['Suffix'] else None\n",
    "    additional_contact_info = row['AdditionalContactInfo'].replace(\"'\", \"''\") if row['AdditionalContactInfo'] else None\n",
    "    demographics = row['Demographics'].replace(\"'\", \"''\") if row['Demographics'] else None\n",
    "    email_address = row['EmailAddress'].replace(\"'\", \"''\") if row['EmailAddress'] else None\n",
    "    password_hash = row['PasswordHash'].replace(\"'\", \"''\") if row['PasswordHash'] else None\n",
    "    password_salt = row['PasswordSalt'].replace(\"'\", \"''\") if row['PasswordSalt'] else None\n",
    "\n",
    "    # Opstellen van de SQL-invoegquery\n",
    "    query = f\"\"\"\n",
    "        INSERT INTO PersonInfo (\n",
    "        BusinessEntityID, PersonType, NameStyle, Title, FirstName,\n",
    "        MiddleName, LastName, Suffix, EmailPromotion,\n",
    "        AdditionalContactInfo, Demographics, EmailAddressID,\n",
    "        EmailAddress, PasswordHash, PasswordSalt\n",
    "        ) \n",
    "        VALUES (\n",
    "        {row['BusinessEntityID']}, '{row['PersonType']}', {NameStyle}, '{title}', '{first_name}',\n",
    "        '{middle_name}', '{last_name}', '{suffix}', {row['EmailPromotion']},\n",
    "        '{additional_contact_info}', '{demographics}', {row['EmailAddressID']},\n",
    "        '{email_address}', '{password_hash}', '{password_salt}'\n",
    "        )\n",
    "    \"\"\"\n",
    "    # Uitvoeren van de query\n",
    "    cursor.execute(query)\n",
    "\n",
    "conn.commit()\n",
    "conn.close()"
   ]
  },
  {
   "cell_type": "markdown",
   "metadata": {},
   "source": [
    "**Note:** Voeg indien nodig zoveel Markdown- of codeblokken toe als nodig is."
   ]
  },
  {
   "cell_type": "markdown",
   "metadata": {},
   "source": [
    "#### 4 -  Data Quality Checks"
   ]
  },
  {
   "cell_type": "markdown",
   "metadata": {},
   "source": [
    "Voeg controles toe om de kwaliteit van de gegevens te waarborgen voordat ze worden geladen in het datawarehouse:"
   ]
  },
  {
   "cell_type": "code",
   "execution_count": null,
   "metadata": {},
   "outputs": [],
   "source": [
    "# Controleren op ontbrekende waarden\n",
    "missing_values = filtered_df.isnull().sum()\n",
    "\n",
    "# Controleren op duplicaten\n",
    "duplicate_rows = filtered_df.duplicated().sum()\n",
    "\n",
    "# Weergave van resultaten\n",
    "print(\"Aantal ontbrekende waarden:\", missing_values)\n",
    "print(\"Aantal duplicaten:\", duplicate_rows)"
   ]
  },
  {
   "cell_type": "markdown",
   "metadata": {},
   "source": [
    "**Note:** Dit is optioneel, het leek mij opzich best handig om te doen."
   ]
  }
 ],
 "metadata": {
  "kernelspec": {
   "display_name": "deds-proj-groep1-beKqzd2--py3.12",
   "language": "python",
   "name": "python3"
  },
  "language_info": {
   "codemirror_mode": {
    "name": "ipython",
    "version": 3
   },
   "file_extension": ".py",
   "mimetype": "text/x-python",
   "name": "python",
   "nbconvert_exporter": "python",
   "pygments_lexer": "ipython3",
   "version": "3.12.2"
  }
 },
 "nbformat": 4,
 "nbformat_minor": 2
}
