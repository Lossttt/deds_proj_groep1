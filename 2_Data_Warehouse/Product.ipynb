{
 "cells": [
  {
   "cell_type": "markdown",
   "metadata": {},
   "source": [
    "# - Data Warehouse -"
   ]
  },
  {
   "cell_type": "markdown",
   "metadata": {},
   "source": [
    "### Het samenvoegen van bestaande tabellen voor het uiteindelijke 'Datawarehouse'"
   ]
  },
  {
   "cell_type": "markdown",
   "metadata": {},
   "source": [
    "##### Importeren van benodigde dependencies"
   ]
  },
  {
   "cell_type": "code",
   "execution_count": 12,
   "metadata": {},
   "outputs": [],
   "source": [
    "import pandas as pd\n",
    "import pyodbc\n",
    "\n",
    "import warnings\n",
    "warnings.filterwarnings(\"ignore\")\n",
    "\n",
    "# Importeren van de create_connection en run_query functies uit de database_utils.py file\n",
    "from utils.database_utils import create_connection, run_query"
   ]
  },
  {
   "cell_type": "markdown",
   "metadata": {},
   "source": [
    "##### 1 - Opbouwen van dataframes voor elke database-tabel"
   ]
  },
  {
   "cell_type": "code",
   "execution_count": 13,
   "metadata": {},
   "outputs": [],
   "source": [
    "awProductdf = run_query(\"SELECT * FROM Production.Product\", \"AdventureWorks2019\")\n",
    "awProductInventorydf = run_query(\"SELECT * FROM Production.ProductInventory\", \"AdventureWorks2019\")\n",
    "awProductSubcategorydf = run_query(\"SELECT * FROM Production.ProductSubcategory\", \"AdventureWorks2019\")\n",
    "awproductCategorydf = run_query(\"SELECT * FROM Production.ProductCategory\", \"AdventureWorks2019\")\n",
    "\n",
    "AenCProductdf = run_query(\"SELECT * FROM PRODUCT\", \"AenC\")\n",
    "\n",
    "nwProductsdf = run_query(\"SELECT * FROM products\", \"northwind\")\n",
    "\n",
    "\n",
    "\n"
   ]
  },
  {
   "cell_type": "code",
   "execution_count": 14,
   "metadata": {},
   "outputs": [
    {
     "name": "stdout",
     "output_type": "stream",
     "text": [
      "Index(['ProductID', 'Name', 'ProductNumber', 'MakeFlag', 'FinishedGoodsFlag',\n",
      "       'Color', 'SafetyStockLevel', 'ReorderPoint', 'StandardCost',\n",
      "       'ListPrice', 'Size', 'SizeUnitMeasureCode', 'WeightUnitMeasureCode',\n",
      "       'Weight', 'DaysToManufacture', 'ProductLine', 'Class', 'Style',\n",
      "       'ProductSubcategoryID', 'ProductModelID', 'SellStartDate',\n",
      "       'SellEndDate', 'DiscontinuedDate', 'rowguid', 'ModifiedDate', 'key'],\n",
      "      dtype='object')\n",
      "Index(['ProductID', 'LocationID', 'Shelf', 'Bin', 'Quantity', 'rowguid',\n",
      "       'ModifiedDate', 'key'],\n",
      "      dtype='object')\n",
      "Index(['ProductSubcategoryID', 'ProductCategoryID', 'Name', 'rowguid',\n",
      "       'ModifiedDate', 'key'],\n",
      "      dtype='object')\n",
      "Index(['ProductCategoryID', 'Name', 'rowguid', 'ModifiedDate', 'key'], dtype='object')\n",
      "Index(['id', 'name', 'description', 'prod_size', 'color', 'quantity',\n",
      "       'unit_price', 'picture_name', 'Category', 'key'],\n",
      "      dtype='object')\n",
      "Index(['ProductID', 'ProductName', 'SupplierID', 'CategoryID',\n",
      "       'QuantityPerUnit', 'UnitPrice', 'UnitsInStock', 'UnitsOnOrder',\n",
      "       'ReorderLevel', 'Discontinued', 'key'],\n",
      "      dtype='object')\n"
     ]
    }
   ],
   "source": [
    "# Add a surrogate key to each DataFrame\n",
    "awProductdf['key'] = range(1, len(awProductdf) + 1)\n",
    "awProductInventorydf['key'] = range(len(awProductdf) + 1, len(awProductdf) + len(awProductInventorydf) + 1)\n",
    "awProductSubcategorydf['key'] = range(len(awProductdf) + len(awProductInventorydf) + 1, len(awProductdf) + len(awProductInventorydf) + len(awProductSubcategorydf) + 1)\n",
    "awproductCategorydf['key'] = range(len(awProductdf) + len(awProductInventorydf) + len(awProductSubcategorydf) + 1, len(awProductdf) + len(awProductInventorydf) + len(awProductSubcategorydf) + len(awproductCategorydf) + 1)\n",
    "AenCProductdf['key'] = range(len(awProductdf) + len(awProductInventorydf) + len(awProductSubcategorydf) + len(awproductCategorydf) + 1, len(awProductdf) + len(awProductInventorydf) + len(awProductSubcategorydf) + len(awproductCategorydf) + len(AenCProductdf) + 1)\n",
    "nwProductsdf['key'] = range(len(awProductdf) + len(awProductInventorydf) + len(awProductSubcategorydf) + len(awproductCategorydf) + len(AenCProductdf) + 1, len(awProductdf) + len(awProductInventorydf) + len(awProductSubcategorydf) + len(awproductCategorydf) + len(AenCProductdf) + len(nwProductsdf) + 1)\n",
    "\n",
    "# Merge the DataFrames using the surrogate key\n",
    "# Merge the DataFrames using the surrogate key and unique suffixes\n",
    "merged_df = pd.merge(awProductdf, awProductInventorydf, on='key', suffixes=('_awProductdf', '_awProductInventorydf'))\n",
    "merged_df = pd.merge(merged_df, awProductSubcategorydf, on='key', suffixes=('', '_awProductSubcategorydf'))\n",
    "merged_df = pd.merge(merged_df, awproductCategorydf, on='key', suffixes=('', '_awproductCategorydf'))\n",
    "merged_df = pd.merge(merged_df, AenCProductdf, on='key', suffixes=('', '_AenCProductdf'))\n",
    "merged_df = pd.merge(merged_df, nwProductsdf, on='key', suffixes=('', '_nwProductsdf'))\n",
    "\n",
    "print(awProductdf.columns)\n",
    "print(awProductInventorydf.columns)\n",
    "print(awProductSubcategorydf.columns)\n",
    "print(awproductCategorydf.columns)\n",
    "print(AenCProductdf.columns)\n",
    "print(nwProductsdf.columns) "
   ]
  },
  {
   "cell_type": "markdown",
   "metadata": {},
   "source": [
    "Je kunt vergelijkbare queries uitvoeren voor andere tabellen die je wilt opnemen."
   ]
  },
  {
   "cell_type": "markdown",
   "metadata": {},
   "source": [
    "#### 2 - Data transformatie"
   ]
  },
  {
   "cell_type": "markdown",
   "metadata": {},
   "source": [
    "Na het opbouwen van de dataframes voor elke database-tabel, kunnen we beginnen met het transformeren van de data. Dit omvat het samenvoegen van tabellen, het toepassen van filters, het uitvoeren van berekeningen, enzovoort."
   ]
  },
  {
   "cell_type": "code",
   "execution_count": 16,
   "metadata": {},
   "outputs": [],
   "source": [
    "\n",
    "Products_sql = \"\"\"\n",
    "CREATE TABLE Products (\n",
    "    SurrogateKey INT ,\n",
    "    ProductID INT PRIMARY KEY,\n",
    "    Name VARCHAR(255),\n",
    "    ProductNumber VARCHAR(255),\n",
    "    MakeFlag TINYINT,\n",
    "    FinishedGoodsFlag TINYINT,\n",
    "    Color VARCHAR(50),\n",
    "    SafetyStockLevel INT,\n",
    "    ReorderPoint INT,\n",
    "    StandardCost DECIMAL(10,2),\n",
    "    ListPrice DECIMAL(10,2),\n",
    "    Size VARCHAR(50),\n",
    "    SizeUnitMeasureCode VARCHAR(50),\n",
    "    WeightUnitMeasureCode VARCHAR(50),\n",
    "    Weight DECIMAL(10,2),\n",
    "    DaysToManufacture INT,\n",
    "    ProductLine VARCHAR(50),\n",
    "    Class VARCHAR(50),\n",
    "    Style VARCHAR(50),\n",
    "    ProductSubcategoryID INT,\n",
    "    ProductModelID INT,\n",
    "    SellStartDate DATETIME,\n",
    "    SellEndDate DATETIME,\n",
    "    DiscontinuedDate DATETIME,\n",
    "    rowguid VARCHAR(255),\n",
    "    ModifiedDate DATETIME,\n",
    "    ProductCategoryID INT,\n",
    "    LocationID INT,\n",
    "    Shelf VARCHAR(50),\n",
    "    Bin INT,\n",
    "    Quantity INT,\n",
    "    description TEXT,\n",
    "    prod_size VARCHAR(50),\n",
    "    unit_price DECIMAL(10,2),\n",
    "    picture_name VARCHAR(255),\n",
    "    Category VARCHAR(255),\n",
    "    ProductName VARCHAR(255),\n",
    "    SupplierID INT,\n",
    "    CategoryID INT,\n",
    "    QuantityPerUnit VARCHAR(255),\n",
    "    UnitPrice DECIMAL(10,2),\n",
    "    UnitsInStock INT,\n",
    "    UnitsOnOrder INT,\n",
    "    ReorderLevel INT,\n",
    "    Discontinued TINYINT\n",
    ");\n",
    "\"\"\"\n",
    "\n",
    "db_name = \"MustafaTest\"\n",
    "conn, cursor = create_connection(db_name)\n",
    "cursor.execute(Products_sql)\n",
    "conn.commit()\n",
    "conn.close()"
   ]
  },
  {
   "cell_type": "markdown",
   "metadata": {},
   "source": [
    "#### 3 - Data loading"
   ]
  },
  {
   "cell_type": "markdown",
   "metadata": {},
   "source": [
    "Na het transformeren van de data, kunnen we de resulterende dataframe in de doeltabel van ons datawarehouse laden."
   ]
  },
  {
   "cell_type": "code",
   "execution_count": 17,
   "metadata": {},
   "outputs": [],
   "source": [
    "# Verbinding maken met de database\n",
    "test_database_name = 'MustafaTest'\n",
    "conn, cursor = create_connection(test_database_name)\n",
    "\n",
    "for index, row in merged_df.iterrows():\n",
    "    # Opstellen van de SQL-invoegquery\n",
    "    query = f\"\"\"\n",
    "        INSERT INTO Product (\n",
    "            SurrogateKey, ProductID, Name, ProductNumber, MakeFlag, FinishedGoodsFlag, Color, SafetyStockLevel, \n",
    "            ReorderPoint, StandardCost, ListPrice, Size, SizeUnitMeasureCode, WeightUnitMeasureCode, \n",
    "            Weight, DaysToManufacture, ProductLine, Class, Style, ProductSubcategoryID, ProductModelID, \n",
    "            SellStartDate, SellEndDate, DiscontinuedDate, rowguid, ModifiedDate, ProductCategoryID, \n",
    "            LocationID, Shelf, Bin, Quantity, description, prod_size, unit_price, picture_name, Category, \n",
    "            ProductName, SupplierID, CategoryID, QuantityPerUnit, UnitPrice, UnitsInStock, UnitsOnOrder, \n",
    "            ReorderLevel, Discontinued\n",
    "        ) \n",
    "        VALUES (\n",
    "            {row['SurrogateKey']}, {row['ProductID']}, {row['Name']}, {row['ProductNumber']}, {row['MakeFlag']}, {row['FinishedGoodsFlag']}, \n",
    "            {row['Color']}, {row['SafetyStockLevel']}, {row['ReorderPoint']}, {row['StandardCost']}, {row['ListPrice']}, \n",
    "            {row['Size']}, {row['SizeUnitMeasureCode']}, {row['WeightUnitMeasureCode']}, {row['Weight']}, \n",
    "            {row['DaysToManufacture']}, {row['ProductLine']}, {row['Class']}, {row['Style']}, {row['ProductSubcategoryID']}, \n",
    "            {row['ProductModelID']}, {row['SellStartDate']}, {row['SellEndDate']}, {row['DiscontinuedDate']}, \n",
    "            {row['rowguid']}, {row['ModifiedDate']}, {row['ProductCategoryID']}, {row['LocationID']}, {row['Shelf']}, \n",
    "            {row['Bin']}, {row['Quantity']}, {row['description']}, {row['prod_size']}, {row['unit_price']}, \n",
    "            {row['picture_name']}, {row['Category']}, {row['ProductName']}, {row['SupplierID']}, {row['CategoryID']}, \n",
    "            {row['QuantityPerUnit']}, {row['UnitPrice']}, {row['UnitsInStock']}, {row['UnitsOnOrder']}, {row['ReorderLevel']}, \n",
    "            {row['Discontinued']}\n",
    "        )\n",
    "    \"\"\"\n",
    "    # Uitvoeren van de query\n",
    "    cursor.execute(query)\n",
    "\n",
    "conn.commit()\n",
    "conn.close()"
   ]
  },
  {
   "cell_type": "markdown",
   "metadata": {},
   "source": [
    "**Note:** Voeg indien nodig zoveel Markdown- of codeblokken toe als nodig is."
   ]
  },
  {
   "cell_type": "markdown",
   "metadata": {},
   "source": [
    "#### 4 -  Data Quality Checks"
   ]
  },
  {
   "cell_type": "markdown",
   "metadata": {},
   "source": [
    "Voeg controles toe om de kwaliteit van de gegevens te waarborgen voordat ze worden geladen in het datawarehouse:"
   ]
  },
  {
   "cell_type": "code",
   "execution_count": 18,
   "metadata": {},
   "outputs": [
    {
     "name": "stdout",
     "output_type": "stream",
     "text": [
      "Aantal ontbrekende waarden: ProductID_awProductdf    0\n",
      "Name                     0\n",
      "ProductNumber            0\n",
      "MakeFlag                 0\n",
      "FinishedGoodsFlag        0\n",
      "                        ..\n",
      "UnitPrice                0\n",
      "UnitsInStock             0\n",
      "UnitsOnOrder             0\n",
      "ReorderLevel             0\n",
      "Discontinued             0\n",
      "Length: 61, dtype: int64\n",
      "Aantal duplicaten: 0\n"
     ]
    }
   ],
   "source": [
    "# Controleren op ontbrekende waarden\n",
    "missing_values = merged_df.isnull().sum()\n",
    "\n",
    "# Controleren op duplicaten\n",
    "duplicate_rows = merged_df.duplicated().sum()\n",
    "\n",
    "# Weergave van resultaten\n",
    "print(\"Aantal ontbrekende waarden:\", missing_values)\n",
    "print(\"Aantal duplicaten:\", duplicate_rows)"
   ]
  },
  {
   "cell_type": "markdown",
   "metadata": {},
   "source": [
    "**Note:** Dit is optioneel, het leek mij opzich best handig om te doen."
   ]
  }
 ],
 "metadata": {
  "kernelspec": {
   "display_name": "deds-proj-groep1-u6_I-BVd-py3.12",
   "language": "python",
   "name": "python3"
  },
  "language_info": {
   "codemirror_mode": {
    "name": "ipython",
    "version": 3
   },
   "file_extension": ".py",
   "mimetype": "text/x-python",
   "name": "python",
   "nbconvert_exporter": "python",
   "pygments_lexer": "ipython3",
   "version": "3.12.2"
  }
 },
 "nbformat": 4,
 "nbformat_minor": 2
}
