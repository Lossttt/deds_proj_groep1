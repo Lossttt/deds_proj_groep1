{
 "cells": [
  {
   "cell_type": "markdown",
   "metadata": {},
   "source": [
    "# - Data Warehouse - inserted\n"
   ]
  },
  {
   "cell_type": "markdown",
   "metadata": {},
   "source": [
    "### Het samenvoegen van bestaande tabellen voor het uiteindelijke 'Datawarehouse'"
   ]
  },
  {
   "cell_type": "markdown",
   "metadata": {
    "vscode": {
     "languageId": "plaintext"
    }
   },
   "source": [
    "##### Importeren van benodigde dependencies"
   ]
  },
  {
   "cell_type": "code",
   "execution_count": null,
   "metadata": {},
   "outputs": [],
   "source": [
    "import pandas as pd # type: ignore\n",
    "import pyodbc # type: ignore\n",
    "\n",
    "import warnings\n",
    "warnings.filterwarnings(\"ignore\")\n",
    "\n",
    "# Importeren van de create_connection en run_query functies uit de database_utils.py file\n",
    "from utils.database_utils import create_connection, run_query"
   ]
  },
  {
   "cell_type": "markdown",
   "metadata": {},
   "source": [
    "##### 1 - Opbouwen van dataframes voor elke database-tabel"
   ]
  },
  {
   "cell_type": "code",
   "execution_count": null,
   "metadata": {},
   "outputs": [],
   "source": [
    "sales_territory_df = run_query(\"SELECT * FROM Sales.SalesTerritory\", \"AdventureWorks2019\")\n",
    "sales_history_df = run_query(\"SELECT * FROM Sales.SalesTerritoryHistory\", \"AdventureWorks2019\")"
   ]
  },
  {
   "cell_type": "markdown",
   "metadata": {},
   "source": [
    "#### 2 - Data transformatie"
   ]
  },
  {
   "cell_type": "markdown",
   "metadata": {},
   "source": [
    "Na het opbouwen van de dataframes voor elke database-tabel, kunnen we beginnen met het transformeren van de data. Dit omvat het samenvoegen of aanpassen van tabellen, het toepassen van filters, het uitvoeren van berekeningen, enzovoort."
   ]
  },
  {
   "cell_type": "code",
   "execution_count": null,
   "metadata": {},
   "outputs": [],
   "source": [
    "create_table_query = \"\"\"\n",
    "CREATE TABLE SalesTerritoryData (\n",
    "    BusinessEntityID INT,\n",
    "    TerritoryID INT,\n",
    "    Name VARCHAR(255),\n",
    "    CountryRegionCode VARCHAR(255),\n",
    "    GroupName VARCHAR(255),\n",
    "    SalesYTD FLOAT,\n",
    "    SalesLastYear FLOAT,\n",
    "    CostYTD FLOAT,\n",
    "    CostLastYear FLOAT,\n",
    "    StartDate DATETIME,\n",
    "    EndDate DATETIME,\n",
    ")\n",
    "\"\"\"\n",
    "\n",
    "# Create the table in SQL Server\n",
    "db_name = \"AdventureWorks2019\"\n",
    "conn, cursor = create_connection(db_name)\n",
    "cursor.execute(create_table_query)\n",
    "conn.commit()\n",
    "conn.close()"
   ]
  },
  {
   "cell_type": "code",
   "execution_count": null,
   "metadata": {},
   "outputs": [],
   "source": [
    "merged_df = pd.merge(sales_territory_df, sales_history_df, on='TerritoryID')\n",
    "merged_df"
   ]
  },
  {
   "cell_type": "markdown",
   "metadata": {},
   "source": [
    "#### 3 - Data loading"
   ]
  },
  {
   "cell_type": "markdown",
   "metadata": {},
   "source": [
    "Na het transformeren van de data, kunnen we de resulterende dataframe in de doeltabel van ons datawarehouse laden."
   ]
  },
  {
   "cell_type": "code",
   "execution_count": null,
   "metadata": {},
   "outputs": [],
   "source": [
    "conn, cursor = create_connection(db_name)\n",
    "\n",
    "for index, row in merged_df.iterrows():\n",
    "    start_date_str = f\"'{row['StartDate'].strftime('%Y-%m-%d %H:%M:%S')}'\" if pd.notnull(row['StartDate']) else 'NULL'\n",
    "    end_date_str = f\"'{row['EndDate'].strftime('%Y-%m-%d %H:%M:%S')}'\" if pd.notnull(row['EndDate']) else 'NULL'\n",
    "    \n",
    "    query = f\"\"\"\n",
    "        INSERT INTO SalesTerritoryData (\n",
    "            BusinessEntityID,\n",
    "            TerritoryID, \n",
    "            Name, \n",
    "            CountryRegionCode, \n",
    "            GroupName, \n",
    "            SalesYTD, \n",
    "            SalesLastYear, \n",
    "            CostYTD, \n",
    "            CostLastYear,\n",
    "            StartDate,\n",
    "            EndDate\n",
    "        ) \n",
    "        VALUES (\n",
    "            {row['BusinessEntityID']},\n",
    "            {row['TerritoryID']}, \n",
    "            '{row['Name']}', \n",
    "            '{row['CountryRegionCode']}', \n",
    "            '{row['Group']}', \n",
    "            {row['SalesYTD']}, \n",
    "            {row['SalesLastYear']}, \n",
    "            {row['CostYTD']}, \n",
    "            {row['CostLastYear']}, \n",
    "            {start_date_str}, \n",
    "            {end_date_str} \n",
    "        )\n",
    "    \"\"\"\n",
    "    cursor.execute(query)\n",
    "\n",
    "conn.commit()\n",
    "conn.close()"
   ]
  },
  {
   "cell_type": "markdown",
   "metadata": {},
   "source": [
    "**Note:** Voeg indien nodig zoveel Markdown- of codeblokken toe als nodig is."
   ]
  },
  {
   "cell_type": "markdown",
   "metadata": {},
   "source": [
    "#### 4 -  Data Quality Checks"
   ]
  },
  {
   "cell_type": "markdown",
   "metadata": {},
   "source": [
    "Voeg controles toe om de kwaliteit van de gegevens te waarborgen voordat ze worden geladen in het datawarehouse:"
   ]
  },
  {
   "cell_type": "code",
   "execution_count": null,
   "metadata": {},
   "outputs": [],
   "source": [
    "# Controleren op ontbrekende waarden\n",
    "missing_values = merged_df.isnull().sum()\n",
    "\n",
    "# Controleren op duplicaten\n",
    "duplicate_rows = merged_df.duplicated().sum()\n",
    "\n",
    "# Weergave van resultaten\n",
    "print(\"Aantal ontbrekende waarden:\", missing_values)\n",
    "print(\"Aantal duplicaten:\", duplicate_rows)"
   ]
  },
  {
   "cell_type": "markdown",
   "metadata": {},
   "source": [
    "**Note:** Dit is optioneel, het leek mij opzich best handig om te doen."
   ]
  }
 ],
 "metadata": {
  "kernelspec": {
   "display_name": "deds-proj-groep1-beKqzd2--py3.12",
   "language": "python",
   "name": "python3"
  },
  "language_info": {
   "codemirror_mode": {
    "name": "ipython",
    "version": 3
   },
   "file_extension": ".py",
   "mimetype": "text/x-python",
   "name": "python",
   "nbconvert_exporter": "python",
   "pygments_lexer": "ipython3",
   "version": "3.12.2"
  }
 },
 "nbformat": 4,
 "nbformat_minor": 2
}
