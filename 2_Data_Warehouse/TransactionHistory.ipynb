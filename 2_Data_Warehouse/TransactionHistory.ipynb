{
 "cells": [
  {
   "cell_type": "markdown",
   "metadata": {},
   "source": [
    "# - Data Warehouse -"
   ]
  },
  {
   "cell_type": "markdown",
   "metadata": {},
   "source": [
    "### Het samenvoegen van bestaande tabellen voor het uiteindelijke 'Datawarehouse'"
   ]
  },
  {
   "cell_type": "markdown",
   "metadata": {
    "vscode": {
     "languageId": "plaintext"
    }
   },
   "source": [
    "##### Importeren van benodigde dependencies"
   ]
  },
  {
   "cell_type": "code",
   "execution_count": 2,
   "metadata": {},
   "outputs": [],
   "source": [
    "import pandas as pd\n",
    "import pyodbc\n",
    "\n",
    "import warnings\n",
    "warnings.filterwarnings(\"ignore\")\n",
    "\n",
    "# Importeren van de create_connection en run_query functies uit de database_utils.py file\n",
    "from utils.database_utils import create_connection, run_query"
   ]
  },
  {
   "cell_type": "markdown",
   "metadata": {},
   "source": [
    "##### 1 - Opbouwen van dataframes voor elke database-tabel"
   ]
  },
  {
   "cell_type": "code",
   "execution_count": 36,
   "metadata": {},
   "outputs": [],
   "source": [
    "payhistory_df = run_query(\"SELECT * FROM Production.TransactionHistory\", \"AdventureWorks2019\")\n",
    "payhistory_archive_df = run_query(\"SELECT * FROM Production.TransactionHistoryArchive\", \"AdventureWorks2019\")"
   ]
  },
  {
   "cell_type": "markdown",
   "metadata": {},
   "source": [
    "Je kunt vergelijkbare queries uitvoeren voor andere tabellen die je wilt opnemen."
   ]
  },
  {
   "cell_type": "markdown",
   "metadata": {},
   "source": [
    "#### 2 - Data transformatie"
   ]
  },
  {
   "cell_type": "code",
   "execution_count": 66,
   "metadata": {},
   "outputs": [],
   "source": [
    "create_table_query = \"\"\"\n",
    "CREATE TABLE PayHistory (\n",
    "    IDSK INT NOT NULL,\n",
    "    TransactionID INT NOT NULL,\n",
    "    ProductID INT NOT NULL,\n",
    "    ReferenceOrderID INT NOT NULL,\n",
    "    ReferenceOrderLineID INT NOT NULL,\n",
    "    TransactionDate DATETIME NOT NULL,\n",
    "    TransactionType NVARCHAR(50) NOT NULL,\n",
    "    Quantity INT NOT NULL,\n",
    "    ActualCost FLOAT NOT NULL,\n",
    "    ModifiedDate DATETIME NOT NULL\n",
    ");\n",
    "\"\"\"\n",
    "\n",
    "# Create the table in SQL Server\n",
    "db_name = \"AdventureWorks2019\"\n",
    "conn, cursor = create_connection(db_name)\n",
    "cursor.execute(create_table_query)\n",
    "conn.commit()\n",
    "conn.close()\n"
   ]
  },
  {
   "cell_type": "code",
   "execution_count": 37,
   "metadata": {},
   "outputs": [],
   "source": [
    "payhistory_archive_df['IDSK'] = range(1, len(payhistory_archive_df) + 1)\n",
    "payhistory_df['IDSK'] = range(1, len(payhistory_df) + 1)"
   ]
  },
  {
   "cell_type": "markdown",
   "metadata": {},
   "source": [
    "Na het opbouwen van de dataframes voor elke database-tabel, kunnen we beginnen met het transformeren van de data. Dit omvat het samenvoegen van tabellen, het toepassen van filters, het uitvoeren van berekeningen, enzovoort."
   ]
  },
  {
   "cell_type": "code",
   "execution_count": 47,
   "metadata": {},
   "outputs": [],
   "source": [
    "# Concatenate the dataframes\n",
    "combined_df = pd.concat([payhistory_df, payhistory_archive_df], ignore_index=True)"
   ]
  },
  {
   "cell_type": "code",
   "execution_count": 55,
   "metadata": {},
   "outputs": [
    {
     "data": {
      "text/plain": [
       "TransactionID                    int64\n",
       "ProductID                        int64\n",
       "ReferenceOrderID                 int64\n",
       "ReferenceOrderLineID             int64\n",
       "TransactionDate         datetime64[ns]\n",
       "TransactionType                 object\n",
       "Quantity                         int64\n",
       "ActualCost                     float64\n",
       "ModifiedDate            datetime64[ns]\n",
       "IDSK                             int64\n",
       "dtype: object"
      ]
     },
     "execution_count": 55,
     "metadata": {},
     "output_type": "execute_result"
    }
   ],
   "source": [
    "combined_df.dtypes"
   ]
  },
  {
   "cell_type": "markdown",
   "metadata": {},
   "source": [
    "#### 3 - Data loading"
   ]
  },
  {
   "cell_type": "markdown",
   "metadata": {},
   "source": [
    "Na het transformeren van de data, kunnen we de resulterende dataframe in de doeltabel van ons datawarehouse laden."
   ]
  },
  {
   "cell_type": "code",
   "execution_count": 67,
   "metadata": {},
   "outputs": [],
   "source": [
    "# Verbinding maken met de database\n",
    "test_database_name = 'AdventureWorks2019'\n",
    "conn, cursor = create_connection(test_database_name)\n",
    "\n",
    "sql_template = \"\"\"\n",
    "INSERT INTO PayHistory (\n",
    "    IDSK, TransactionID, ProductID, ReferenceOrderID, ReferenceOrderLineID,\n",
    "    TransactionDate, TransactionType, Quantity, ActualCost, ModifiedDate\n",
    ") \n",
    "VALUES (?, ?, ?, ?, ?, ?, ?, ?, ?, ?)\n",
    "\"\"\"\n",
    "\n",
    "# Itereer over de dataframe en voer de inserties uit\n",
    "for index, row in combined_df.iterrows():\n",
    "    row['TransactionDate'] = row['TransactionDate'].strftime('%Y-%m-%d %H:%M:%S')\n",
    "    row['ModifiedDate'] = row['ModifiedDate'].strftime('%Y-%m-%d %H:%M:%S')\n",
    "\n",
    "    # Tuple met waarden voor de invoegquery\n",
    "    values = (\n",
    "        row['IDSK'], row['TransactionID'], row['ProductID'], row['ReferenceOrderID'], row['ReferenceOrderLineID'],\n",
    "        row['TransactionDate'], row['TransactionType'], row['Quantity'], row['ActualCost'],\n",
    "        row['ModifiedDate']\n",
    "    )\n",
    "    # Uitvoeren van de query\n",
    "    cursor.execute(sql_template, values)\n",
    "\n",
    "# Commit de transacties en sluit de verbinding\n",
    "conn.commit()\n",
    "conn.close()"
   ]
  },
  {
   "cell_type": "markdown",
   "metadata": {},
   "source": [
    "**Note:** Voeg indien nodig zoveel Markdown- of codeblokken toe als nodig is."
   ]
  },
  {
   "cell_type": "markdown",
   "metadata": {},
   "source": [
    "#### 4 -  Data Quality Checks"
   ]
  },
  {
   "cell_type": "markdown",
   "metadata": {},
   "source": [
    "Voeg controles toe om de kwaliteit van de gegevens te waarborgen voordat ze worden geladen in het datawarehouse:"
   ]
  },
  {
   "cell_type": "code",
   "execution_count": 49,
   "metadata": {},
   "outputs": [
    {
     "name": "stdout",
     "output_type": "stream",
     "text": [
      "Aantal ontbrekende waarden: TransactionID           0\n",
      "ProductID               0\n",
      "ReferenceOrderID        0\n",
      "ReferenceOrderLineID    0\n",
      "TransactionDate         0\n",
      "TransactionType         0\n",
      "Quantity                0\n",
      "ActualCost              0\n",
      "ModifiedDate            0\n",
      "IDSK                    0\n",
      "dtype: int64\n",
      "Aantal duplicaten: 0\n"
     ]
    }
   ],
   "source": [
    "# Controleren op ontbrekende waarden\n",
    "missing_values = combined_df.isnull().sum()\n",
    "\n",
    "# Controleren op duplicaten\n",
    "duplicate_rows = combined_df.duplicated().sum()\n",
    "\n",
    "# Weergave van resultaten\n",
    "print(\"Aantal ontbrekende waarden:\", missing_values)\n",
    "print(\"Aantal duplicaten:\", duplicate_rows)"
   ]
  },
  {
   "cell_type": "markdown",
   "metadata": {},
   "source": [
    "**Note:** Dit is optioneel, het leek mij opzich best handig om te doen."
   ]
  }
 ],
 "metadata": {
  "kernelspec": {
   "display_name": "deds-proj-groep1-beKqzd2--py3.12",
   "language": "python",
   "name": "python3"
  },
  "language_info": {
   "codemirror_mode": {
    "name": "ipython",
    "version": 3
   },
   "file_extension": ".py",
   "mimetype": "text/x-python",
   "name": "python",
   "nbconvert_exporter": "python",
   "pygments_lexer": "ipython3",
   "version": "3.12.2"
  }
 },
 "nbformat": 4,
 "nbformat_minor": 2
}
