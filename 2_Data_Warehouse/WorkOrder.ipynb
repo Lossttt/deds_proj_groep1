{
 "cells": [
  {
   "cell_type": "markdown",
   "metadata": {},
   "source": [
    "# - Data Warehouse -"
   ]
  },
  {
   "cell_type": "markdown",
   "metadata": {},
   "source": [
    "### Het samenvoegen van bestaande tabellen voor het uiteindelijke 'Datawarehouse'"
   ]
  },
  {
   "cell_type": "markdown",
   "metadata": {},
   "source": [
    "##### Importeren van benodigde dependencies"
   ]
  },
  {
   "cell_type": "code",
   "execution_count": null,
   "metadata": {},
   "outputs": [],
   "source": [
    "import pandas as pd\n",
    "import pyodbc\n",
    "\n",
    "import warnings\n",
    "warnings.filterwarnings(\"ignore\")\n",
    "\n",
    "# Importeren van de create_connection en run_query functies uit de database_utils.py file\n",
    "from utils.database_utils import create_connection, run_query"
   ]
  },
  {
   "cell_type": "markdown",
   "metadata": {},
   "source": [
    "##### 1 - Opbouwen van dataframes voor elke database-tabel"
   ]
  },
  {
   "cell_type": "code",
   "execution_count": null,
   "metadata": {},
   "outputs": [],
   "source": [
    "Workorderdf = run_query(\"SELECT * FROM Production.Workorder\", \"AdventureWorks2019\")\n",
    "WorkOrderRoutingdf = run_query(\"SELECT * FROM Production.WorkOrderRouting\", \"AdventureWorks2019\")"
   ]
  },
  {
   "cell_type": "markdown",
   "metadata": {},
   "source": [
    "Je kunt vergelijkbare queries uitvoeren voor andere tabellen die je wilt opnemen."
   ]
  },
  {
   "cell_type": "code",
   "execution_count": null,
   "metadata": {},
   "outputs": [],
   "source": [
    "merged_df = pd.merge(Workorderdf, WorkOrderRoutingdf, on='WorkOrderID', how='inner')"
   ]
  },
  {
   "cell_type": "markdown",
   "metadata": {},
   "source": [
    "#### 2 - Data transformatie"
   ]
  },
  {
   "cell_type": "markdown",
   "metadata": {},
   "source": [
    "Na het opbouwen van de dataframes voor elke database-tabel, kunnen we beginnen met het transformeren van de data. Dit omvat het samenvoegen van tabellen, het toepassen van filters, het uitvoeren van berekeningen, enzovoort."
   ]
  },
  {
   "cell_type": "code",
   "execution_count": null,
   "metadata": {},
   "outputs": [],
   "source": [
    "# SQL query\n",
    "WorkOrder_sql = \"\"\"\n",
    "CREATE TABLE WorkOrder (\n",
    "    WorkOrderID INT PRIMARY KEY,\n",
    "    ProductID INT,\n",
    "    OrderQty INT,\n",
    "    StockedQty INT,\n",
    "    ScrappedQty INT,\n",
    "    StartDate DATETIME,\n",
    "    EndDate DATETIME,\n",
    "    DueDate DATETIME,\n",
    "    ScrapReasonID INT,\n",
    "    ModifiedDate DATETIME,\n",
    "    OperationSequence INT,\n",
    "    LocationID INT,\n",
    "    ScheduledStartDate DATETIME,\n",
    "    ScheduledEndDate DATETIME,\n",
    "    ActualStartDate DATETIME,\n",
    "    ActualEndDate DATETIME,\n",
    "    ActualResourceHrs DECIMAL(10,2),\n",
    "    PlannedCost DECIMAL(10,2),\n",
    "    ActualCost DECIMAL(10,2)\n",
    ");\n",
    "\"\"\"\n",
    "\n",
    "db_name = \"MustafaTest\"\n",
    "conn, cursor = create_connection(db_name)\n",
    "cursor.execute(WorkOrder_sql)\n",
    "conn.commit()\n",
    "conn.close()"
   ]
  },
  {
   "cell_type": "markdown",
   "metadata": {},
   "source": [
    "#### 3 - Data loading"
   ]
  },
  {
   "cell_type": "markdown",
   "metadata": {},
   "source": [
    "Na het transformeren van de data, kunnen we de resulterende dataframe in de doeltabel van ons datawarehouse laden."
   ]
  },
  {
   "cell_type": "code",
   "execution_count": null,
   "metadata": {},
   "outputs": [],
   "source": [
    "# Verbinding maken met de database\n",
    "test_database_name = 'MustafaTest'\n",
    "conn, cursor = create_connection(test_database_name)\n",
    "\n",
    "for index, row in merged_df.iterrows():\n",
    "    # Opstellen van de SQL-invoegquery\n",
    "    query = f\"\"\"\n",
    "        INSERT INTO WorkOrder (\n",
    "            WorkOrderID, ProductID, OrderQty, StockedQty, ScrappedQty, StartDate, EndDate, DueDate, \n",
    "            ScrapReasonID, ModifiedDate, OperationSequence, LocationID, ScheduledStartDate, \n",
    "            ScheduledEndDate, ActualStartDate, ActualEndDate, ActualResourceHrs, PlannedCost, ActualCost\n",
    "        ) \n",
    "        VALUES (\n",
    "            {row['WorkOrderID']}, {row['ProductID']}, {row['OrderQty']}, {row['StockedQty']}, {row['ScrappedQty']}, \n",
    "            {row['StartDate']}, {row['EndDate']}, {row['DueDate']}, {row['ScrapReasonID']}, {row['ModifiedDate']}, \n",
    "            {row['OperationSequence']}, {row['LocationID']}, {row['ScheduledStartDate']}, {row['ScheduledEndDate']}, \n",
    "            {row['ActualStartDate']}, {row['ActualEndDate']}, {row['ActualResourceHrs']}, {row['PlannedCost']}, \n",
    "            {row['ActualCost']}\n",
    "        )\n",
    "    \"\"\"\n",
    "    # Uitvoeren van de query\n",
    "    cursor.execute(query)\n",
    "\n",
    "conn.commit()\n",
    "conn.close()"
   ]
  },
  {
   "cell_type": "markdown",
   "metadata": {},
   "source": [
    "**Note:** Voeg indien nodig zoveel Markdown- of codeblokken toe als nodig is."
   ]
  },
  {
   "cell_type": "markdown",
   "metadata": {},
   "source": [
    "#### 4 -  Data Quality Checks"
   ]
  },
  {
   "cell_type": "markdown",
   "metadata": {},
   "source": [
    "Voeg controles toe om de kwaliteit van de gegevens te waarborgen voordat ze worden geladen in het datawarehouse:"
   ]
  },
  {
   "cell_type": "code",
   "execution_count": null,
   "metadata": {},
   "outputs": [],
   "source": [
    "# Controleren op ontbrekende waarden\n",
    "missing_values = merged_df.isnull().sum()\n",
    "\n",
    "# Controleren op duplicaten\n",
    "duplicate_rows = merged_df.duplicated().sum()\n",
    "\n",
    "# Weergave van resultaten\n",
    "print(\"Aantal ontbrekende waarden:\", missing_values)\n",
    "print(\"Aantal duplicaten:\", duplicate_rows)"
   ]
  },
  {
   "cell_type": "markdown",
   "metadata": {},
   "source": [
    "**Note:** Dit is optioneel, het leek mij opzich best handig om te doen."
   ]
  }
 ],
 "metadata": {
  "language_info": {
   "name": "python"
  }
 },
 "nbformat": 4,
 "nbformat_minor": 2
}
