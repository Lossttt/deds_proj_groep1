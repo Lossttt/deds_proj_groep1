{
 "cells": [
  {
   "cell_type": "markdown",
   "metadata": {},
   "source": [
    "# - Data Warehouse -"
   ]
  },
  {
   "cell_type": "markdown",
   "metadata": {},
   "source": [
    "### Het samenvoegen van bestaande tabellen voor het uiteindelijke 'Datawarehouse'"
   ]
  },
  {
   "cell_type": "markdown",
   "metadata": {
    "vscode": {
     "languageId": "plaintext"
    }
   },
   "source": [
    "##### Importeren van benodigde dependencies"
   ]
  },
  {
   "cell_type": "code",
   "execution_count": null,
   "metadata": {},
   "outputs": [],
   "source": [
    "import pandas as pd\n",
    "import pyodbc\n",
    "\n",
    "import warnings\n",
    "warnings.filterwarnings(\"ignore\")\n",
    "\n",
    "# Importeren van de create_connection en run_query functies uit de database_utils.py file\n",
    "from utils.database_utils import create_connection, run_query"
   ]
  },
  {
   "cell_type": "markdown",
   "metadata": {},
   "source": [
    "##### 1 - Opbouwen van dataframes voor elke database-tabel"
   ]
  },
  {
   "cell_type": "code",
   "execution_count": null,
   "metadata": {},
   "outputs": [],
   "source": [
    "aw_BusinessEntityAddressDF = run_query(\"SELECT * FROM Person.BusinessEntityAddress\", \"AdventureWorks2019\")\n",
    "aw_AddressDF = run_query(\"SELECT * FROM Person.Address\", \"AdventureWorks2019\")\n",
    "aw_AddressTypeDF = run_query(\"SELECT * FROM Person.AddressType\", \"AdventureWorks2019\")\n",
    "aw_StateProvinceDF = run_query(\"SELECT * FROM Person.StateProvince\", \"AdventureWorks2019\")\n",
    "aw_CountryRegionDF = run_query(\"SELECT * FROM Person.CountryRegion\", \"AdventureWorks2019\")\n",
    "\n",
    "print(\"BusinessEntityAddressDF columns:\", aw_BusinessEntityAddressDF.columns)\n",
    "print(\"AddressDF columns:\", aw_AddressDF.columns)\n",
    "print(\"AddressTypeDF columns:\", aw_AddressTypeDF.columns)\n",
    "print(\"StateProvinceDF columns:\", aw_StateProvinceDF.columns)\n",
    "print(\"CountryRegionDF columns:\", aw_CountryRegionDF.columns)\n",
    "\n"
   ]
  },
  {
   "cell_type": "markdown",
   "metadata": {},
   "source": [
    "Je kunt vergelijkbare queries uitvoeren voor andere tabellen die je wilt opnemen."
   ]
  },
  {
   "cell_type": "markdown",
   "metadata": {},
   "source": [
    "#### 2 - Data transformatie"
   ]
  },
  {
   "cell_type": "markdown",
   "metadata": {},
   "source": [
    "Na het opbouwen van de dataframes voor elke database-tabel, kunnen we beginnen met het transformeren van de data. Dit omvat het samenvoegen van tabellen, het toepassen van filters, het uitvoeren van berekeningen, enzovoort."
   ]
  },
  {
   "cell_type": "code",
   "execution_count": null,
   "metadata": {},
   "outputs": [],
   "source": [
    "# Drop the 'rowguid' and 'ModifiedDate' columns from each DataFrame\n",
    "aw_BusinessEntityAddressDF.drop(columns=['rowguid', 'ModifiedDate'], inplace=True)\n",
    "aw_AddressDF.drop(columns=['rowguid', 'ModifiedDate'], inplace=True)\n",
    "aw_AddressTypeDF.drop(columns=['rowguid', 'ModifiedDate'], inplace=True)\n",
    "aw_StateProvinceDF.drop(columns=['rowguid', 'ModifiedDate'], inplace=True)\n",
    "aw_CountryRegionDF.drop(columns=['ModifiedDate'], inplace=True)\n",
    "\n",
    "# Merge the DataFrames\n",
    "merged_df = pd.merge(aw_BusinessEntityAddressDF, aw_AddressDF, on='AddressID', how='inner')\n",
    "merged_df = pd.merge(merged_df, aw_AddressTypeDF, on='AddressTypeID', how='inner')\n",
    "merged_df = pd.merge(merged_df, aw_StateProvinceDF, on='StateProvinceID', how='inner')\n",
    "merged_df = pd.merge(merged_df, aw_CountryRegionDF, on='CountryRegionCode', how='inner')\n",
    "\n",
    "filtered_df = merged_df.rename(columns={'Name': 'Country', 'Name_x': 'AddressType', 'Name_y': 'State'})\n",
    "filtered_df = filtered_df.drop_duplicates(subset='BusinessEntityID', keep='first')\n",
    "filtered_df"
   ]
  },
  {
   "cell_type": "code",
   "execution_count": null,
   "metadata": {},
   "outputs": [],
   "source": [
    "create_table_query = \"\"\"\n",
    "\n",
    "CREATE TABLE AddressInfo (\n",
    "    BusinessEntityID int PRIMARY KEY,\n",
    "    AddressID int,\n",
    "    AddressTypeID int,\n",
    "    AddressLine1 nvarchar(max),\n",
    "    AddressLine2 nvarchar(max),\n",
    "    City nvarchar(max),\n",
    "    StateProvinceID int,\n",
    "    PostalCode nvarchar(max),\n",
    "    SpatialLocation geography,\n",
    "    AddressType nvarchar(max),\n",
    "    StateProvinceCode nchar(10),\n",
    "    CountryRegionCode nvarchar(max),\n",
    "    IsOnlyStateProvinceFlag bit,\n",
    "    State nvarchar(max),\n",
    "    TerritoryID int,\n",
    "    Country nvarchar(max),\n",
    ");\n",
    "\"\"\"\n",
    "\n",
    "# Create the table in SQL Server\n",
    "db_name = \"testDB\"\n",
    "conn, cursor = create_connection(db_name)\n",
    "cursor.execute(create_table_query)\n",
    "conn.commit()\n",
    "conn.close()"
   ]
  },
  {
   "cell_type": "markdown",
   "metadata": {},
   "source": [
    "#### 3 - Data loading"
   ]
  },
  {
   "cell_type": "markdown",
   "metadata": {},
   "source": [
    "Na het transformeren van de data, kunnen we de resulterende dataframe in de doeltabel van ons datawarehouse laden."
   ]
  },
  {
   "cell_type": "code",
   "execution_count": null,
   "metadata": {},
   "outputs": [],
   "source": [
    "test_database_name = 'testDB'\n",
    "conn, cursor = create_connection(test_database_name)\n",
    "\n",
    "for index, row in filtered_df.iterrows():\n",
    "    # Convert binary data to hexadecimal\n",
    "    spatial_location = row['SpatialLocation'].hex()\n",
    "\n",
    "    # Convert Python boolean to SQL boolean\n",
    "    is_only_state_province_flag = 1 if row['IsOnlyStateProvinceFlag'] else 0\n",
    "\n",
    "    # Escape single quotes in string data\n",
    "    address_line1 = row['AddressLine1'].replace(\"'\", \"''\") if row['AddressLine1'] else None\n",
    "    address_line2 = row['AddressLine2'].replace(\"'\", \"''\") if row['AddressLine2'] else None\n",
    "    city = row['City'].replace(\"'\", \"''\") if row['City'] else None\n",
    "    address_type = row['AddressType'].replace(\"'\", \"''\") if row['AddressType'] else None\n",
    "    state_province_code = row['StateProvinceCode'].replace(\"'\", \"''\") if row['StateProvinceCode'] else None\n",
    "    country_region_code = row['CountryRegionCode'].replace(\"'\", \"''\") if row['CountryRegionCode'] else None\n",
    "    state = row['State'].replace(\"'\", \"''\") if row['State'] else None\n",
    "    country = row['Country'].replace(\"'\", \"''\") if row['Country'] else None\n",
    "\n",
    "    query = f\"\"\"\n",
    "        INSERT INTO AddressInfo  (\n",
    "            BusinessEntityID, AddressID, AddressTypeID, AddressLine1, AddressLine2, City, \n",
    "            StateProvinceID, PostalCode, SpatialLocation, AddressType, \n",
    "            StateProvinceCode, CountryRegionCode, IsOnlyStateProvinceFlag, State, \n",
    "            TerritoryID, Country\n",
    "        ) \n",
    "        VALUES (\n",
    "            {row['BusinessEntityID']}, {row['AddressID']}, {row['AddressTypeID']}, '{address_line1}', \n",
    "            '{address_line2}', '{city}', {row['StateProvinceID']}, '{row['PostalCode']}', \n",
    "            0x{spatial_location}, '{address_type}', '{state_province_code}', \n",
    "            '{country_region_code}', {is_only_state_province_flag}, '{state}', \n",
    "            {row['TerritoryID']}, '{country}'\n",
    "        )\n",
    "    \"\"\"\n",
    "    print(query)  # Print the query\n",
    "    cursor.execute(query)\n",
    "\n",
    "conn.commit()\n",
    "conn.close()"
   ]
  },
  {
   "cell_type": "markdown",
   "metadata": {},
   "source": [
    "**Note:** Voeg indien nodig zoveel Markdown- of codeblokken toe als nodig is."
   ]
  },
  {
   "cell_type": "markdown",
   "metadata": {},
   "source": [
    "#### 4 -  Data Quality Checks"
   ]
  },
  {
   "cell_type": "markdown",
   "metadata": {},
   "source": [
    "Voeg controles toe om de kwaliteit van de gegevens te waarborgen voordat ze worden geladen in het datawarehouse:"
   ]
  },
  {
   "cell_type": "code",
   "execution_count": null,
   "metadata": {},
   "outputs": [],
   "source": [
    "# Controleren op ontbrekende waarden\n",
    "missing_values = filtered_df.isnull().sum()\n",
    "\n",
    "# Controleren op duplicaten\n",
    "duplicate_rows = filtered_df.duplicated().sum()\n",
    "\n",
    "# Weergave van resultaten\n",
    "print(\"Aantal ontbrekende waarden:\", missing_values)\n",
    "print(\"Aantal duplicaten:\", duplicate_rows)\n"
   ]
  },
  {
   "cell_type": "markdown",
   "metadata": {},
   "source": [
    "**Note:** Dit is optioneel, het leek mij opzich best handig om te doen."
   ]
  }
 ],
 "metadata": {
  "kernelspec": {
   "display_name": "deds-proj-groep1-beKqzd2--py3.12",
   "language": "python",
   "name": "python3"
  },
  "language_info": {
   "codemirror_mode": {
    "name": "ipython",
    "version": 3
   },
   "file_extension": ".py",
   "mimetype": "text/x-python",
   "name": "python",
   "nbconvert_exporter": "python",
   "pygments_lexer": "ipython3",
   "version": "3.12.2"
  }
 },
 "nbformat": 4,
 "nbformat_minor": 2
}
