{
 "cells": [
  {
   "cell_type": "markdown",
   "metadata": {},
   "source": [
    "# - Data Warehouse -"
   ]
  },
  {
   "cell_type": "markdown",
   "metadata": {},
   "source": [
    "### Het samenvoegen van bestaande tabellen voor het uiteindelijke 'Datawarehouse'"
   ]
  },
  {
   "cell_type": "markdown",
   "metadata": {
    "vscode": {
     "languageId": "plaintext"
    }
   },
   "source": [
    "##### Importeren van benodigde dependencies"
   ]
  },
  {
   "cell_type": "code",
   "execution_count": 1,
   "metadata": {},
   "outputs": [],
   "source": [
    "import pandas as pd\n",
    "import pyodbc\n",
    "\n",
    "import warnings\n",
    "warnings.filterwarnings(\"ignore\")\n",
    "\n",
    "# Importeren van de create_connection en run_query functies uit de database_utils.py file\n",
    "from utils.database_utils import create_connection, run_query"
   ]
  },
  {
   "cell_type": "markdown",
   "metadata": {},
   "source": [
    "##### 1 - Opbouwen van dataframes voor elke database-tabel"
   ]
  },
  {
   "cell_type": "code",
   "execution_count": null,
   "metadata": {},
   "outputs": [],
   "source": [
    "template_df = run_query(\"SELECT * FROM TemplateTable\", \"testdb\")"
   ]
  },
  {
   "cell_type": "markdown",
   "metadata": {},
   "source": [
    "Je kunt vergelijkbare queries uitvoeren voor andere tabellen die je wilt opnemen."
   ]
  },
  {
   "cell_type": "markdown",
   "metadata": {},
   "source": [
    "#### 2 - Data transformatie"
   ]
  },
  {
   "cell_type": "markdown",
   "metadata": {},
   "source": [
    "Na het opbouwen van de dataframes voor elke database-tabel, kunnen we beginnen met het transformeren van de data. Dit omvat het samenvoegen van tabellen, het toepassen van filters, het uitvoeren van berekeningen, enzovoort."
   ]
  },
  {
   "cell_type": "code",
   "execution_count": null,
   "metadata": {},
   "outputs": [],
   "source": [
    "# Samenvoegen van tabellen\n",
    "merged_df = pd.merge(template_df, another_table_df, on='common_column', how='inner') # type: ignore\n",
    "\n",
    "# Filteren van data\n",
    "filtered_df = merged_df[merged_df['column_name'] > 100]\n",
    "\n",
    "# Berekeningen uitvoeren\n",
    "filtered_df['new_column'] = filtered_df['column_a'] * filtered_df['column_b']"
   ]
  },
  {
   "cell_type": "markdown",
   "metadata": {},
   "source": [
    "#### 3 - Data loading"
   ]
  },
  {
   "cell_type": "markdown",
   "metadata": {},
   "source": [
    "Na het transformeren van de data, kunnen we de resulterende dataframe in de doeltabel van ons datawarehouse laden."
   ]
  },
  {
   "cell_type": "code",
   "execution_count": null,
   "metadata": {},
   "outputs": [],
   "source": [
    "# Verbinding maken met de database\n",
    "test_database_name = 'AdventureWorks2019'\n",
    "conn, cursor = create_connection(test_database_name)\n",
    "\n",
    "for index, row in filtered_df.iterrows():\n",
    "    # Opstellen van de SQL-invoegquery\n",
    "    query = f\"\"\"\n",
    "        INSERT INTO TemplateTable (\n",
    "        ) \n",
    "        VALUES (\n",
    "\n",
    "        )\n",
    "    \"\"\"\n",
    "    # Uitvoeren van de query\n",
    "    cursor.execute(query)\n",
    "\n",
    "conn.commit()\n",
    "conn.close()"
   ]
  },
  {
   "cell_type": "markdown",
   "metadata": {},
   "source": [
    "**Note:** Voeg indien nodig zoveel Markdown- of codeblokken toe als nodig is."
   ]
  },
  {
   "cell_type": "markdown",
   "metadata": {},
   "source": [
    "#### 4 -  Data Quality Checks"
   ]
  },
  {
   "cell_type": "markdown",
   "metadata": {},
   "source": [
    "Voeg controles toe om de kwaliteit van de gegevens te waarborgen voordat ze worden geladen in het datawarehouse:"
   ]
  },
  {
   "cell_type": "code",
   "execution_count": null,
   "metadata": {},
   "outputs": [],
   "source": [
    "# Controleren op ontbrekende waarden\n",
    "missing_values = filtered_df.isnull().sum()\n",
    "\n",
    "# Controleren op duplicaten\n",
    "duplicate_rows = filtered_df.duplicated().sum()\n",
    "\n",
    "# Weergave van resultaten\n",
    "print(\"Aantal ontbrekende waarden:\", missing_values)\n",
    "print(\"Aantal duplicaten:\", duplicate_rows)"
   ]
  },
  {
   "cell_type": "markdown",
   "metadata": {},
   "source": [
    "**Note:** Dit is optioneel, het leek mij opzich best handig om te doen."
   ]
  }
 ],
 "metadata": {
  "kernelspec": {
   "display_name": "deds-proj-groep1-beKqzd2--py3.12",
   "language": "python",
   "name": "python3"
  },
  "language_info": {
   "codemirror_mode": {
    "name": "ipython",
    "version": 3
   },
   "file_extension": ".py",
   "mimetype": "text/x-python",
   "name": "python",
   "nbconvert_exporter": "python",
   "pygments_lexer": "ipython3",
   "version": "3.12.2"
  }
 },
 "nbformat": 4,
 "nbformat_minor": 2
}
