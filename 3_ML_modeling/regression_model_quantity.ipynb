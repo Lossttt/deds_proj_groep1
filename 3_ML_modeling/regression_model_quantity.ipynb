{
 "cells": [
  {
   "cell_type": "markdown",
   "metadata": {},
   "source": [
    "# Jupyter Notebook Script for Predicting Quantities"
   ]
  },
  {
   "cell_type": "markdown",
   "metadata": {},
   "source": [
    "## Import Libraries"
   ]
  },
  {
   "cell_type": "code",
   "execution_count": 1,
   "metadata": {},
   "outputs": [],
   "source": [
    "# Oudere libraries importeren\n",
    "import pandas as pd\n",
    "import numpy as np\n",
    "import pyodbc\n",
    "import sqlite3\n",
    "\n",
    "# Nieuwe libraries importeren\n",
    "from sklearn.model_selection import train_test_split\n",
    "from sklearn import linear_model\n",
    "from sklearn.linear_model import LinearRegression\n",
    "from sklearn.metrics import mean_squared_error, mean_absolute_error\n",
    "import matplotlib.pyplot as plt\n",
    "\n",
    "import sys\n",
    "import os\n",
    "sys.path.insert(0, os.path.abspath(os.path.join(os.getcwd(), os.pardir)))\n",
    "\n",
    "from db_utils.db_utils import create_connection, run_query"
   ]
  },
  {
   "cell_type": "markdown",
   "metadata": {},
   "source": [
    "## Load Data\n"
   ]
  },
  {
   "cell_type": "markdown",
   "metadata": {},
   "source": [
    "Hieronder wordt aangenomen dat de gegevens al zijn ingeladen en verwerkt zoals nodig\n",
    "Indien nodig kunnen we de code toevoegen voor het inlezen en voorbewerken van de gegevens"
   ]
  },
  {
   "cell_type": "code",
   "execution_count": 2,
   "metadata": {},
   "outputs": [
    {
     "name": "stderr",
     "output_type": "stream",
     "text": [
      "c:\\Users\\lfatm\\Documents\\School\\deds_proj_groep1\\db_utils\\db_utils.py:37: UserWarning: pandas only supports SQLAlchemy connectable (engine/connection) or database string URI or sqlite3 DBAPI2 connection. Other DBAPI2 objects are not tested. Please consider using SQLAlchemy.\n",
      "  df = pd.read_sql(query, conn)\n"
     ]
    }
   ],
   "source": [
    "merged_order_df = run_query(\"SELECT * FROM OrderData\", 'test')"
   ]
  },
  {
   "cell_type": "markdown",
   "metadata": {},
   "source": [
    "## Data Preprocessing\n"
   ]
  },
  {
   "cell_type": "markdown",
   "metadata": {},
   "source": [
    "Definieer de kenmerken (features) en de doelvariabelen (targets)"
   ]
  },
  {
   "cell_type": "code",
   "execution_count": 3,
   "metadata": {},
   "outputs": [],
   "source": [
    "features = ['prod_id', 'ReceivedQty', 'RejectedQty', 'StockedQty', 'prod_id', 'UnitPrice_y','LineTotal', 'ReceivedQty', 'RejectedQty', 'StockedQty', 'order_date', 'region', 'ship_date', 'ModifiedDate']\n",
    "target_quantity = 'quantity'"
   ]
  },
  {
   "cell_type": "markdown",
   "metadata": {},
   "source": [
    "Vanwege het feit dat we bezig zijn met het bouwen en trainen van een lineaire regressie model, betekent het dat alle variabelen, numeriek moeten zijn. Vandaar dat we de niet-numerieke variabelen zullen converteren met behulp van one-hot encoding"
   ]
  },
  {
   "cell_type": "code",
   "execution_count": 4,
   "metadata": {},
   "outputs": [],
   "source": [
    "columns_to_drop = ['order_date', 'region', 'ship_date', 'ModifiedDate']\n",
    "merged_order_df = merged_order_df.drop(columns=columns_to_drop)"
   ]
  },
  {
   "cell_type": "markdown",
   "metadata": {},
   "source": [
    "## Model Building\n"
   ]
  },
  {
   "cell_type": "code",
   "execution_count": 5,
   "metadata": {},
   "outputs": [],
   "source": [
    "X = merged_order_df.drop(target_quantity, axis=1)\n",
    "Y = merged_order_df.loc[:, target_quantity]"
   ]
  },
  {
   "cell_type": "markdown",
   "metadata": {},
   "source": [
    "In deze stap splitsen we de gegevens in trainings- en testsets. Dit doen we om het model te trainen op een subset van de gegevens (de trainingsset) en vervolgens de prestaties van het model te evalueren op een andere subset (de testset). Hierdoor kunnen we beoordelen hoe goed het model generaliseert naar nieuwe, ongeziene gegevens. We gebruiken een testgrootte van 20% en stellen een random_state in op 42 om reproduceerbaarheid te garanderen."
   ]
  },
  {
   "cell_type": "code",
   "execution_count": 6,
   "metadata": {},
   "outputs": [],
   "source": [
    "## Opsplitsen van gegevens in trainings- en testsets\n",
    "X_train, X_test, y_train, y_test = train_test_split(\n",
    "        X, \n",
    "        Y, \n",
    "        test_size=0.2, \n",
    "        random_state=42\n",
    "    )"
   ]
  },
  {
   "cell_type": "markdown",
   "metadata": {},
   "source": [
    "We initialiseren en trainen een lineair regressiemodel om de variabele 'quantity' te voorspellen. Het model wordt getraind met behulp van de trainingsgegevens (X_train en y_train)."
   ]
  },
  {
   "cell_type": "code",
   "execution_count": 7,
   "metadata": {},
   "outputs": [],
   "source": [
    "# Model initialisatie en training voor 'quantity'\n",
    "quantity_model = linear_model.LinearRegression()\n",
    "quantity_model = LinearRegression().fit(X_train, y_train)"
   ]
  },
  {
   "cell_type": "markdown",
   "metadata": {},
   "source": [
    "Na deze stappen is het model klaar om voorspellingen te doen en kunnen we de prestaties ervan evalueren met de testset."
   ]
  },
  {
   "cell_type": "markdown",
   "metadata": {},
   "source": [
    "### Voorspelde vs Werkelijke waarden"
   ]
  },
  {
   "cell_type": "code",
   "execution_count": 8,
   "metadata": {},
   "outputs": [
    {
     "name": "stdout",
     "output_type": "stream",
     "text": [
      "Index Verschil   Voorspelde waarde    Werkelijke waarde   \n",
      "------------------------------------------------------------\n",
      "0     0.02       23.98                24                  \n",
      "1     0.08       23.92                24                  \n",
      "2     0.33       24.33                24                  \n",
      "3     0.43       23.57                24                  \n",
      "4     0.48       24.48                24                  \n",
      "5     0.49       23.51                24                  \n",
      "6     0.54       24.54                24                  \n",
      "7     0.57       23.43                24                  \n",
      "8     0.58       23.42                24                  \n",
      "9     0.77       24.77                24                  \n",
      "10    0.78       23.22                24                  \n",
      "11    0.78       23.22                24                  \n",
      "12    0.78       24.78                24                  \n",
      "13    0.82       23.18                24                  \n",
      "14    0.88       24.88                24                  \n",
      "15    1.00       23.00                24                  \n",
      "16    1.05       25.05                24                  \n",
      "17    1.07       25.07                24                  \n",
      "18    1.08       22.92                24                  \n",
      "19    1.24       22.76                24                  \n",
      "20    1.59       22.41                24                  \n",
      "21    1.69       25.69                24                  \n",
      "22    1.70       25.70                24                  \n",
      "23    1.79       25.79                24                  \n",
      "24    1.84       25.84                24                  \n",
      "25    2.04       33.96                36                  \n",
      "26    2.09       26.09                24                  \n",
      "27    2.11       26.11                24                  \n",
      "28    2.18       26.18                24                  \n",
      "29    2.23       33.77                36                  \n",
      "30    2.32       21.68                24                  \n",
      "31    2.47       21.53                24                  \n",
      "32    2.58       26.58                24                  \n",
      "33    2.67       21.33                24                  \n",
      "34    2.93       21.07                24                  \n",
      "35    2.98       26.98                24                  \n",
      "36    3.03       27.03                24                  \n",
      "37    3.15       27.15                24                  \n",
      "38    3.19       15.19                12                  \n",
      "39    3.36       32.64                36                  \n",
      "40    3.42       27.42                24                  \n",
      "41    3.48       20.52                24                  \n",
      "42    3.78       20.22                24                  \n",
      "43    3.99       27.99                24                  \n",
      "44    4.09       31.91                36                  \n",
      "45    4.09       28.09                24                  \n",
      "46    4.13       28.13                24                  \n",
      "47    4.15       19.85                24                  \n",
      "48    4.20       31.80                36                  \n",
      "49    4.21       28.21                24                  \n",
      "50    4.26       31.74                36                  \n",
      "51    4.34       31.66                36                  \n",
      "52    4.43       28.43                24                  \n",
      "53    4.57       31.43                36                  \n",
      "54    4.65       16.65                12                  \n",
      "55    4.78       31.22                36                  \n",
      "56    4.83       28.83                24                  \n",
      "57    5.06       18.94                24                  \n",
      "58    5.13       30.87                36                  \n",
      "59    5.28       18.72                24                  \n",
      "60    5.34       29.34                24                  \n",
      "61    5.44       18.56                24                  \n",
      "62    5.57       18.43                24                  \n",
      "63    5.61       30.39                36                  \n",
      "64    5.80       29.80                24                  \n",
      "65    5.86       17.86                12                  \n",
      "66    5.86       18.14                24                  \n",
      "67    5.99       17.99                12                  \n",
      "68    6.07       30.07                24                  \n",
      "69    6.16       17.84                24                  \n",
      "70    6.19       18.19                12                  \n",
      "71    6.31       18.31                12                  \n",
      "72    6.48       30.48                24                  \n",
      "73    6.71       18.71                12                  \n",
      "74    6.73       30.73                24                  \n",
      "75    6.94       29.06                36                  \n",
      "76    6.95       30.95                24                  \n",
      "77    7.40       31.40                24                  \n",
      "78    7.44       28.56                36                  \n",
      "79    7.57       19.57                12                  \n",
      "80    7.72       28.28                36                  \n",
      "81    8.13       20.13                12                  \n",
      "82    8.26       20.26                12                  \n",
      "83    8.29       32.29                24                  \n",
      "84    8.46       15.54                24                  \n",
      "85    8.57       20.57                12                  \n",
      "86    8.68       32.68                24                  \n",
      "87    8.79       27.21                36                  \n",
      "88    8.85       15.15                24                  \n",
      "89    8.89       20.89                12                  \n",
      "90    8.95       20.95                12                  \n",
      "91    8.95       20.95                12                  \n",
      "92    8.95       20.95                12                  \n",
      "93    8.98       20.98                12                  \n",
      "94    9.06       33.06                24                  \n",
      "95    9.11       21.11                12                  \n",
      "96    9.19       26.81                36                  \n",
      "97    9.29       33.29                24                  \n",
      "98    9.30       21.30                12                  \n",
      "99    9.57       21.57                12                  \n",
      "100   9.60       21.60                12                  \n",
      "101   9.62       21.62                12                  \n",
      "102   9.67       21.67                12                  \n",
      "103   9.71       26.29                36                  \n",
      "104   9.90       14.10                24                  \n",
      "105   9.93       21.93                12                  \n",
      "106   10.07      22.07                12                  \n",
      "107   10.18      22.18                12                  \n",
      "108   10.27      22.27                12                  \n",
      "109   10.79      22.79                12                  \n",
      "110   10.80      22.80                12                  \n",
      "111   10.82      22.82                12                  \n",
      "112   10.83      22.83                12                  \n",
      "113   10.87      22.87                12                  \n",
      "114   10.92      22.92                12                  \n",
      "115   10.92      25.08                36                  \n",
      "116   11.08      23.08                12                  \n",
      "117   11.11      23.11                12                  \n",
      "118   11.11      24.89                36                  \n",
      "119   11.13      24.87                36                  \n",
      "120   11.24      23.24                12                  \n",
      "121   11.28      23.28                12                  \n",
      "122   11.35      23.35                12                  \n",
      "123   11.37      23.37                12                  \n",
      "124   11.42      35.42                24                  \n",
      "125   11.43      23.43                12                  \n",
      "126   11.83      35.83                24                  \n",
      "127   11.89      23.89                12                  \n",
      "128   11.96      23.96                12                  \n",
      "129   12.23      23.77                36                  \n",
      "130   12.35      23.65                36                  \n",
      "131   12.35      24.35                12                  \n",
      "132   12.67      23.33                36                  \n",
      "133   12.79      24.79                12                  \n",
      "134   13.04      22.96                36                  \n",
      "135   13.19      22.81                36                  \n",
      "136   13.22      25.22                12                  \n",
      "137   13.22      25.22                12                  \n",
      "138   13.47      25.47                12                  \n",
      "139   13.56      25.56                12                  \n",
      "140   13.57      25.57                12                  \n",
      "141   13.73      25.73                12                  \n",
      "142   13.91      22.09                36                  \n",
      "143   13.96      34.04                48                  \n",
      "144   14.23      26.23                12                  \n",
      "145   14.44      26.44                12                  \n",
      "146   14.45      21.55                36                  \n",
      "147   14.49      26.49                12                  \n",
      "148   14.57      26.57                12                  \n",
      "149   14.70      26.70                12                  \n",
      "150   14.70      26.70                12                  \n",
      "151   14.72      26.72                12                  \n",
      "152   14.75      33.25                48                  \n",
      "153   14.84      33.16                48                  \n",
      "154   14.87      26.87                12                  \n",
      "155   14.93      21.07                36                  \n",
      "156   15.20      27.20                12                  \n",
      "157   15.33      20.67                36                  \n",
      "158   15.36      27.36                12                  \n",
      "159   15.52      20.48                36                  \n",
      "160   15.68      20.32                36                  \n",
      "161   15.80      20.20                36                  \n",
      "162   15.80      20.20                36                  \n",
      "163   15.82      20.18                36                  \n",
      "164   16.21      28.21                12                  \n",
      "165   16.33      19.67                36                  \n",
      "166   16.35      28.35                12                  \n",
      "167   16.39      19.61                36                  \n",
      "168   16.53      28.53                12                  \n",
      "169   16.63      28.63                12                  \n",
      "170   16.66      28.66                12                  \n",
      "171   16.82      28.82                12                  \n",
      "172   17.19      18.81                36                  \n",
      "173   17.39      18.61                36                  \n",
      "174   17.41      30.59                48                  \n",
      "175   17.49      29.49                12                  \n",
      "176   17.56      29.56                12                  \n",
      "177   17.62      30.38                48                  \n",
      "178   17.83      29.83                12                  \n",
      "179   17.98      29.98                12                  \n",
      "180   18.06      29.94                48                  \n",
      "181   18.35      30.35                12                  \n",
      "182   18.52      29.48                48                  \n",
      "183   18.66      29.34                48                  \n",
      "184   19.01      31.01                12                  \n",
      "185   19.10      31.10                12                  \n",
      "186   19.13      31.13                12                  \n",
      "187   19.13      31.13                12                  \n",
      "188   19.14      28.86                48                  \n",
      "189   19.36      28.64                48                  \n",
      "190   20.25      27.75                48                  \n",
      "191   20.25      27.75                48                  \n",
      "192   20.60      32.60                12                  \n",
      "193   20.99      27.01                48                  \n",
      "194   21.06      33.06                12                  \n",
      "195   21.53      33.53                12                  \n",
      "196   21.67      33.67                12                  \n",
      "197   22.47      25.53                48                  \n",
      "198   22.70      25.30                48                  \n",
      "199   23.17      35.17                12                  \n",
      "200   24.23      36.23                12                  \n",
      "201   24.82      23.18                48                  \n",
      "202   25.00      23.00                48                  \n",
      "203   25.52      22.48                48                  \n",
      "204   25.95      22.05                48                  \n",
      "205   26.60      33.40                60                  \n",
      "206   26.89      33.11                60                  \n",
      "207   26.96      21.04                48                  \n",
      "208   28.19      31.81                60                  \n",
      "209   29.02      30.98                60                  \n",
      "210   29.52      30.48                60                  \n",
      "211   29.55      30.45                60                  \n",
      "212   30.85      29.15                60                  \n",
      "213   35.94      36.06                72                  \n",
      "214   35.99      24.01                60                  \n",
      "215   36.26      23.74                60                  \n",
      "216   36.42      35.58                72                  \n",
      "217   37.55      22.45                60                  \n",
      "218   40.30      31.70                72                  \n",
      "219   40.38      19.62                60                  \n",
      "220   42.68      29.32                72                  \n"
     ]
    }
   ],
   "source": [
    "# Voorspellingen maken\n",
    "predictions = quantity_model.predict(X_test)\n",
    "\n",
    "# Bereken de verschillen en sla ze op in een lijst\n",
    "differences = [(abs(pred - actual), pred, actual) for pred, actual in zip(predictions, y_test)]\n",
    "\n",
    "# Sorteer de lijst op basis van het verschil\n",
    "differences.sort(key=lambda x: x[0])\n",
    "\n",
    "# Print de gesorteerde voorspelde en werkelijke waarden\n",
    "print(f'{\"Index\":<5} {\"Verschil\":<10} {\"Voorspelde waarde\":<20} {\"Werkelijke waarde\":<20}')\n",
    "print('-' * 60)\n",
    "for idx, (diff, pred, actual) in enumerate(differences):\n",
    "    print(f'{idx:<5} {diff:<10.2f} {pred:<20.2f} {actual:<20}')\n"
   ]
  },
  {
   "cell_type": "markdown",
   "metadata": {},
   "source": [
    "Maak een DataFrame met voorspelde en werkelijke waarden"
   ]
  },
  {
   "cell_type": "code",
   "execution_count": 9,
   "metadata": {},
   "outputs": [
    {
     "data": {
      "text/html": [
       "<div>\n",
       "<style scoped>\n",
       "    .dataframe tbody tr th:only-of-type {\n",
       "        vertical-align: middle;\n",
       "    }\n",
       "\n",
       "    .dataframe tbody tr th {\n",
       "        vertical-align: top;\n",
       "    }\n",
       "\n",
       "    .dataframe thead th {\n",
       "        text-align: right;\n",
       "    }\n",
       "</style>\n",
       "<table border=\"1\" class=\"dataframe\">\n",
       "  <thead>\n",
       "    <tr style=\"text-align: right;\">\n",
       "      <th></th>\n",
       "      <th>Predicted</th>\n",
       "      <th>Actual</th>\n",
       "    </tr>\n",
       "  </thead>\n",
       "  <tbody>\n",
       "    <tr>\n",
       "      <th>309</th>\n",
       "      <td>28.644672</td>\n",
       "      <td>48</td>\n",
       "    </tr>\n",
       "    <tr>\n",
       "      <th>1041</th>\n",
       "      <td>31.808898</td>\n",
       "      <td>60</td>\n",
       "    </tr>\n",
       "    <tr>\n",
       "      <th>381</th>\n",
       "      <td>31.430535</td>\n",
       "      <td>36</td>\n",
       "    </tr>\n",
       "    <tr>\n",
       "      <th>497</th>\n",
       "      <td>21.531805</td>\n",
       "      <td>24</td>\n",
       "    </tr>\n",
       "    <tr>\n",
       "      <th>551</th>\n",
       "      <td>19.574046</td>\n",
       "      <td>12</td>\n",
       "    </tr>\n",
       "  </tbody>\n",
       "</table>\n",
       "</div>"
      ],
      "text/plain": [
       "      Predicted  Actual\n",
       "309   28.644672      48\n",
       "1041  31.808898      60\n",
       "381   31.430535      36\n",
       "497   21.531805      24\n",
       "551   19.574046      12"
      ]
     },
     "execution_count": 9,
     "metadata": {},
     "output_type": "execute_result"
    }
   ],
   "source": [
    "predictions_df = pd.DataFrame({'Predicted': predictions, 'Actual': y_test})\n",
    "predictions_df = predictions_df.rename(columns={0: 'Predicted', 'quantity': 'Actual'})\n",
    "predictions_df.head()"
   ]
  },
  {
   "cell_type": "markdown",
   "metadata": {},
   "source": [
    "### Plotten van het regressiemodel"
   ]
  },
  {
   "cell_type": "markdown",
   "metadata": {},
   "source": [
    "Maak een scatter plot van werkelijke vs. voorspelde waarden"
   ]
  },
  {
   "cell_type": "code",
   "execution_count": 10,
   "metadata": {},
   "outputs": [
    {
     "data": {
      "image/png": "[encoded data removed]",
      "text/plain": [
       "<Figure size 640x480 with 1 Axes>"
      ]
     },
     "metadata": {},
     "output_type": "display_data"
    }
   ],
   "source": [
    "plt.scatter(y_test, predictions)\n",
    "plt.xlabel('Actual Quantity')\n",
    "plt.ylabel('Predicted Quantity')\n",
    "\n",
    "m, b = np.polyfit(y_test, predictions, 1)\n",
    "plt.plot(y_test, m*y_test + b, color='red')\n",
    "\n",
    "plt.show()\n"
   ]
  },
  {
   "cell_type": "markdown",
   "metadata": {},
   "source": [
    "Bereken de gemiddelde kwadratische fout (Mean Squared Error)"
   ]
  },
  {
   "cell_type": "code",
   "execution_count": 11,
   "metadata": {},
   "outputs": [
    {
     "data": {
      "text/plain": [
       "215.1805596780541"
      ]
     },
     "execution_count": 11,
     "metadata": {},
     "output_type": "execute_result"
    }
   ],
   "source": [
    "mean_squared_error(y_test, predictions)"
   ]
  },
  {
   "cell_type": "markdown",
   "metadata": {},
   "source": [
    "Bereken de gemiddelde absolute fout (Mean Absolute Error)"
   ]
  },
  {
   "cell_type": "code",
   "execution_count": 12,
   "metadata": {},
   "outputs": [
    {
     "data": {
      "text/plain": [
       "11.745807443834861"
      ]
     },
     "execution_count": 12,
     "metadata": {},
     "output_type": "execute_result"
    }
   ],
   "source": [
    "mean_absolute_error(y_test, predictions)"
   ]
  }
 ],
 "metadata": {
  "kernelspec": {
   "display_name": "deds-proj-groep1-beKqzd2--py3.12",
   "language": "python",
   "name": "python3"
  },
  "language_info": {
   "codemirror_mode": {
    "name": "ipython",
    "version": 3
   },
   "file_extension": ".py",
   "mimetype": "text/x-python",
   "name": "python",
   "nbconvert_exporter": "python",
   "pygments_lexer": "ipython3",
   "version": "3.12.2"
  }
 },
 "nbformat": 4,
 "nbformat_minor": 2
}
