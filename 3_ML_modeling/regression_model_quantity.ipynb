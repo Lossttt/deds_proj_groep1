{
 "cells": [
  {
   "cell_type": "markdown",
   "metadata": {},
   "source": [
    "# Jupyter Notebook Script for Predicting LineTota"
   ]
  },
  {
   "cell_type": "markdown",
   "metadata": {},
   "source": [
    "## Import Libraries"
   ]
  },
  {
   "cell_type": "code",
   "execution_count": 1,
   "metadata": {},
   "outputs": [],
   "source": [
    "# Oudere libraries importeren\n",
    "import pandas as pd\n",
    "import numpy as np\n",
    "import pyodbc\n",
    "import sqlite3\n",
    "\n",
    "# Nieuwe libraries importeren\n",
    "from sklearn.model_selection import train_test_split\n",
    "from sklearn import linear_model\n",
    "from sklearn.linear_model import LinearRegression\n",
    "from sklearn.metrics import mean_squared_error, mean_absolute_error\n",
    "import matplotlib.pyplot as plt\n",
    "\n",
    "import sys\n",
    "import os\n",
    "sys.path.insert(0, os.path.abspath(os.path.join(os.getcwd(), os.pardir)))\n",
    "\n",
    "from db_utils.db_utils import create_connection, run_query"
   ]
  },
  {
   "cell_type": "markdown",
   "metadata": {},
   "source": [
    "## Load Data\n"
   ]
  },
  {
   "cell_type": "markdown",
   "metadata": {},
   "source": [
    "Hieronder wordt aangenomen dat de gegevens al zijn ingeladen en verwerkt zoals nodig\n",
    "Indien nodig kunnen we de code toevoegen voor het inlezen en voorbewerken van de gegevens"
   ]
  },
  {
   "cell_type": "code",
   "execution_count": 10,
   "metadata": {},
   "outputs": [
    {
     "name": "stderr",
     "output_type": "stream",
     "text": [
      "c:\\Users\\lfatm\\Documents\\School\\deds_proj_groep1\\db_utils\\db_utils.py:37: UserWarning: pandas only supports SQLAlchemy connectable (engine/connection) or database string URI or sqlite3 DBAPI2 connection. Other DBAPI2 objects are not tested. Please consider using SQLAlchemy.\n",
      "  df = pd.read_sql(query, conn)\n"
     ]
    }
   ],
   "source": [
    "merged_order_df = run_query(\"SELECT * FROM OrderData\", 'test')"
   ]
  },
  {
   "cell_type": "markdown",
   "metadata": {},
   "source": [
    "## Data Preprocessing\n"
   ]
  },
  {
   "cell_type": "markdown",
   "metadata": {},
   "source": [
    "Definieer de kenmerken (features) en de doelvariabelen (targets)"
   ]
  },
  {
   "cell_type": "code",
   "execution_count": 11,
   "metadata": {},
   "outputs": [
    {
     "data": {
      "text/plain": [
       "Index(['IDSK', 'id', 'cust_id', 'order_date', 'region', 'sales_rep', 'line_id',\n",
       "       'prod_id', 'quantity', 'ship_date', 'LineTotal', 'ReceivedQty',\n",
       "       'RejectedQty', 'StockedQty', 'ModifiedDate', 'OrderID', 'ProductID_y',\n",
       "       'UnitPrice_y', 'Discount'],\n",
       "      dtype='object')"
      ]
     },
     "execution_count": 11,
     "metadata": {},
     "output_type": "execute_result"
    }
   ],
   "source": [
    "features = ['prod_id', 'ReceivedQty', 'RejectedQty', 'StockedQty', 'prod_id', 'UnitPrice_y','LineTotal', 'ReceivedQty', 'RejectedQty', 'StockedQty', 'order_date', 'region', 'ship_date', 'ModifiedDate']\n",
    "target_quantity = 'quantity'\n",
    "\n",
    "merged_order_df.columns"
   ]
  },
  {
   "cell_type": "markdown",
   "metadata": {},
   "source": [
    "Vanwege het feit dat we bezig zijn met het bouwen en trainen van een lineaire regressie model, betekent het dat alle variabelen, numeriek moeten zijn. Vandaar dat we de niet-numerieke variabelen zullen converteren met behulp van one-hot encoding"
   ]
  },
  {
   "cell_type": "code",
   "execution_count": 4,
   "metadata": {},
   "outputs": [],
   "source": [
    "columns_to_drop = ['order_date', 'region', 'ship_date', 'ModifiedDate']\n",
    "merged_order_df = merged_order_df.drop(columns=columns_to_drop, inplace=True)"
   ]
  },
  {
   "cell_type": "code",
   "execution_count": 9,
   "metadata": {},
   "outputs": [
    {
     "ename": "AttributeError",
     "evalue": "'NoneType' object has no attribute 'drop'",
     "output_type": "error",
     "traceback": [
      "\u001b[1;31m---------------------------------------------------------------------------\u001b[0m",
      "\u001b[1;31mAttributeError\u001b[0m                            Traceback (most recent call last)",
      "Cell \u001b[1;32mIn[9], line 1\u001b[0m\n\u001b[1;32m----> 1\u001b[0m X \u001b[38;5;241m=\u001b[39m \u001b[43mmerged_order_df\u001b[49m\u001b[38;5;241;43m.\u001b[39;49m\u001b[43mdrop\u001b[49m(target_quantity, axis\u001b[38;5;241m=\u001b[39m\u001b[38;5;241m1\u001b[39m)\n\u001b[0;32m      2\u001b[0m Y \u001b[38;5;241m=\u001b[39m merged_order_df\u001b[38;5;241m.\u001b[39mloc[:, target_quantity]\n\u001b[0;32m      4\u001b[0m X\u001b[38;5;241m.\u001b[39mhead()\n",
      "\u001b[1;31mAttributeError\u001b[0m: 'NoneType' object has no attribute 'drop'"
     ]
    }
   ],
   "source": [
    "X = merged_order_df.drop(target_quantity, axis=1)\n",
    "Y = merged_order_df.loc[:, target_quantity]\n",
    "\n",
    "X.head()\n"
   ]
  },
  {
   "cell_type": "code",
   "execution_count": 14,
   "metadata": {},
   "outputs": [
    {
     "ename": "ValueError",
     "evalue": "could not convert string to float: '1998-10-15'",
     "output_type": "error",
     "traceback": [
      "\u001b[1;31m---------------------------------------------------------------------------\u001b[0m",
      "\u001b[1;31mValueError\u001b[0m                                Traceback (most recent call last)",
      "\u001b[1;32m~\\AppData\\Local\\Temp\\ipykernel_2052\\3790900593.py\u001b[0m in \u001b[0;36m?\u001b[1;34m()\u001b[0m\n\u001b[0;32m      7\u001b[0m     \u001b[1;33m)\u001b[0m\u001b[1;33m\u001b[0m\u001b[1;33m\u001b[0m\u001b[0m\n\u001b[0;32m      8\u001b[0m \u001b[1;33m\u001b[0m\u001b[0m\n\u001b[0;32m      9\u001b[0m \u001b[1;31m# Model initialisatie en training voor 'quantity'\u001b[0m\u001b[1;33m\u001b[0m\u001b[1;33m\u001b[0m\u001b[0m\n\u001b[0;32m     10\u001b[0m \u001b[0mquantity_model\u001b[0m \u001b[1;33m=\u001b[0m \u001b[0mlinear_model\u001b[0m\u001b[1;33m.\u001b[0m\u001b[0mLinearRegression\u001b[0m\u001b[1;33m(\u001b[0m\u001b[1;33m)\u001b[0m\u001b[1;33m\u001b[0m\u001b[1;33m\u001b[0m\u001b[0m\n\u001b[1;32m---> 11\u001b[1;33m \u001b[0mquantity_model\u001b[0m \u001b[1;33m=\u001b[0m \u001b[0mLinearRegression\u001b[0m\u001b[1;33m(\u001b[0m\u001b[1;33m)\u001b[0m\u001b[1;33m.\u001b[0m\u001b[0mfit\u001b[0m\u001b[1;33m(\u001b[0m\u001b[0mX_train\u001b[0m\u001b[1;33m,\u001b[0m \u001b[0my_train\u001b[0m\u001b[1;33m)\u001b[0m\u001b[1;33m\u001b[0m\u001b[1;33m\u001b[0m\u001b[0m\n\u001b[0m",
      "\u001b[1;32mc:\\Users\\lfatm\\AppData\\Local\\pypoetry\\Cache\\virtualenvs\\deds-proj-groep1-beKqzd2--py3.12\\Lib\\site-packages\\sklearn\\base.py\u001b[0m in \u001b[0;36m?\u001b[1;34m(estimator, *args, **kwargs)\u001b[0m\n\u001b[0;32m   1470\u001b[0m                 skip_parameter_validation=(\n\u001b[0;32m   1471\u001b[0m                     \u001b[0mprefer_skip_nested_validation\u001b[0m \u001b[1;32mor\u001b[0m \u001b[0mglobal_skip_validation\u001b[0m\u001b[1;33m\u001b[0m\u001b[1;33m\u001b[0m\u001b[0m\n\u001b[0;32m   1472\u001b[0m                 \u001b[1;33m)\u001b[0m\u001b[1;33m\u001b[0m\u001b[1;33m\u001b[0m\u001b[0m\n\u001b[0;32m   1473\u001b[0m             \u001b[1;33m)\u001b[0m\u001b[1;33m:\u001b[0m\u001b[1;33m\u001b[0m\u001b[1;33m\u001b[0m\u001b[0m\n\u001b[1;32m-> 1474\u001b[1;33m                 \u001b[1;32mreturn\u001b[0m \u001b[0mfit_method\u001b[0m\u001b[1;33m(\u001b[0m\u001b[0mestimator\u001b[0m\u001b[1;33m,\u001b[0m \u001b[1;33m*\u001b[0m\u001b[0margs\u001b[0m\u001b[1;33m,\u001b[0m \u001b[1;33m**\u001b[0m\u001b[0mkwargs\u001b[0m\u001b[1;33m)\u001b[0m\u001b[1;33m\u001b[0m\u001b[1;33m\u001b[0m\u001b[0m\n\u001b[0m",
      "\u001b[1;32mc:\\Users\\lfatm\\AppData\\Local\\pypoetry\\Cache\\virtualenvs\\deds-proj-groep1-beKqzd2--py3.12\\Lib\\site-packages\\sklearn\\linear_model\\_base.py\u001b[0m in \u001b[0;36m?\u001b[1;34m(self, X, y, sample_weight)\u001b[0m\n\u001b[0;32m    574\u001b[0m         \u001b[0mn_jobs_\u001b[0m \u001b[1;33m=\u001b[0m \u001b[0mself\u001b[0m\u001b[1;33m.\u001b[0m\u001b[0mn_jobs\u001b[0m\u001b[1;33m\u001b[0m\u001b[1;33m\u001b[0m\u001b[0m\n\u001b[0;32m    575\u001b[0m \u001b[1;33m\u001b[0m\u001b[0m\n\u001b[0;32m    576\u001b[0m         \u001b[0maccept_sparse\u001b[0m \u001b[1;33m=\u001b[0m \u001b[1;32mFalse\u001b[0m \u001b[1;32mif\u001b[0m \u001b[0mself\u001b[0m\u001b[1;33m.\u001b[0m\u001b[0mpositive\u001b[0m \u001b[1;32melse\u001b[0m \u001b[1;33m[\u001b[0m\u001b[1;34m\"csr\"\u001b[0m\u001b[1;33m,\u001b[0m \u001b[1;34m\"csc\"\u001b[0m\u001b[1;33m,\u001b[0m \u001b[1;34m\"coo\"\u001b[0m\u001b[1;33m]\u001b[0m\u001b[1;33m\u001b[0m\u001b[1;33m\u001b[0m\u001b[0m\n\u001b[0;32m    577\u001b[0m \u001b[1;33m\u001b[0m\u001b[0m\n\u001b[1;32m--> 578\u001b[1;33m         X, y = self._validate_data(\n\u001b[0m\u001b[0;32m    579\u001b[0m             \u001b[0mX\u001b[0m\u001b[1;33m,\u001b[0m \u001b[0my\u001b[0m\u001b[1;33m,\u001b[0m \u001b[0maccept_sparse\u001b[0m\u001b[1;33m=\u001b[0m\u001b[0maccept_sparse\u001b[0m\u001b[1;33m,\u001b[0m \u001b[0my_numeric\u001b[0m\u001b[1;33m=\u001b[0m\u001b[1;32mTrue\u001b[0m\u001b[1;33m,\u001b[0m \u001b[0mmulti_output\u001b[0m\u001b[1;33m=\u001b[0m\u001b[1;32mTrue\u001b[0m\u001b[1;33m\u001b[0m\u001b[1;33m\u001b[0m\u001b[0m\n\u001b[0;32m    580\u001b[0m         \u001b[1;33m)\u001b[0m\u001b[1;33m\u001b[0m\u001b[1;33m\u001b[0m\u001b[0m\n\u001b[0;32m    581\u001b[0m \u001b[1;33m\u001b[0m\u001b[0m\n",
      "\u001b[1;32mc:\\Users\\lfatm\\AppData\\Local\\pypoetry\\Cache\\virtualenvs\\deds-proj-groep1-beKqzd2--py3.12\\Lib\\site-packages\\sklearn\\base.py\u001b[0m in \u001b[0;36m?\u001b[1;34m(self, X, y, reset, validate_separately, cast_to_ndarray, **check_params)\u001b[0m\n\u001b[0;32m    646\u001b[0m                 \u001b[1;32mif\u001b[0m \u001b[1;34m\"estimator\"\u001b[0m \u001b[1;32mnot\u001b[0m \u001b[1;32min\u001b[0m \u001b[0mcheck_y_params\u001b[0m\u001b[1;33m:\u001b[0m\u001b[1;33m\u001b[0m\u001b[1;33m\u001b[0m\u001b[0m\n\u001b[0;32m    647\u001b[0m                     \u001b[0mcheck_y_params\u001b[0m \u001b[1;33m=\u001b[0m \u001b[1;33m{\u001b[0m\u001b[1;33m**\u001b[0m\u001b[0mdefault_check_params\u001b[0m\u001b[1;33m,\u001b[0m \u001b[1;33m**\u001b[0m\u001b[0mcheck_y_params\u001b[0m\u001b[1;33m}\u001b[0m\u001b[1;33m\u001b[0m\u001b[1;33m\u001b[0m\u001b[0m\n\u001b[0;32m    648\u001b[0m                 \u001b[0my\u001b[0m \u001b[1;33m=\u001b[0m \u001b[0mcheck_array\u001b[0m\u001b[1;33m(\u001b[0m\u001b[0my\u001b[0m\u001b[1;33m,\u001b[0m \u001b[0minput_name\u001b[0m\u001b[1;33m=\u001b[0m\u001b[1;34m\"y\"\u001b[0m\u001b[1;33m,\u001b[0m \u001b[1;33m**\u001b[0m\u001b[0mcheck_y_params\u001b[0m\u001b[1;33m)\u001b[0m\u001b[1;33m\u001b[0m\u001b[1;33m\u001b[0m\u001b[0m\n\u001b[0;32m    649\u001b[0m             \u001b[1;32melse\u001b[0m\u001b[1;33m:\u001b[0m\u001b[1;33m\u001b[0m\u001b[1;33m\u001b[0m\u001b[0m\n\u001b[1;32m--> 650\u001b[1;33m                 \u001b[0mX\u001b[0m\u001b[1;33m,\u001b[0m \u001b[0my\u001b[0m \u001b[1;33m=\u001b[0m \u001b[0mcheck_X_y\u001b[0m\u001b[1;33m(\u001b[0m\u001b[0mX\u001b[0m\u001b[1;33m,\u001b[0m \u001b[0my\u001b[0m\u001b[1;33m,\u001b[0m \u001b[1;33m**\u001b[0m\u001b[0mcheck_params\u001b[0m\u001b[1;33m)\u001b[0m\u001b[1;33m\u001b[0m\u001b[1;33m\u001b[0m\u001b[0m\n\u001b[0m\u001b[0;32m    651\u001b[0m             \u001b[0mout\u001b[0m \u001b[1;33m=\u001b[0m \u001b[0mX\u001b[0m\u001b[1;33m,\u001b[0m \u001b[0my\u001b[0m\u001b[1;33m\u001b[0m\u001b[1;33m\u001b[0m\u001b[0m\n\u001b[0;32m    652\u001b[0m \u001b[1;33m\u001b[0m\u001b[0m\n\u001b[0;32m    653\u001b[0m         \u001b[1;32mif\u001b[0m \u001b[1;32mnot\u001b[0m \u001b[0mno_val_X\u001b[0m \u001b[1;32mand\u001b[0m \u001b[0mcheck_params\u001b[0m\u001b[1;33m.\u001b[0m\u001b[0mget\u001b[0m\u001b[1;33m(\u001b[0m\u001b[1;34m\"ensure_2d\"\u001b[0m\u001b[1;33m,\u001b[0m \u001b[1;32mTrue\u001b[0m\u001b[1;33m)\u001b[0m\u001b[1;33m:\u001b[0m\u001b[1;33m\u001b[0m\u001b[1;33m\u001b[0m\u001b[0m\n",
      "\u001b[1;32mc:\\Users\\lfatm\\AppData\\Local\\pypoetry\\Cache\\virtualenvs\\deds-proj-groep1-beKqzd2--py3.12\\Lib\\site-packages\\sklearn\\utils\\validation.py\u001b[0m in \u001b[0;36m?\u001b[1;34m(X, y, accept_sparse, accept_large_sparse, dtype, order, copy, force_all_finite, ensure_2d, allow_nd, multi_output, ensure_min_samples, ensure_min_features, y_numeric, estimator)\u001b[0m\n\u001b[0;32m   1259\u001b[0m         raise ValueError(\n\u001b[0;32m   1260\u001b[0m             \u001b[1;33mf\"\u001b[0m\u001b[1;33m{\u001b[0m\u001b[0mestimator_name\u001b[0m\u001b[1;33m}\u001b[0m\u001b[1;33m requires y to be passed, but the target y is None\u001b[0m\u001b[1;33m\"\u001b[0m\u001b[1;33m\u001b[0m\u001b[1;33m\u001b[0m\u001b[0m\n\u001b[0;32m   1261\u001b[0m         \u001b[1;33m)\u001b[0m\u001b[1;33m\u001b[0m\u001b[1;33m\u001b[0m\u001b[0m\n\u001b[0;32m   1262\u001b[0m \u001b[1;33m\u001b[0m\u001b[0m\n\u001b[1;32m-> 1263\u001b[1;33m     X = check_array(\n\u001b[0m\u001b[0;32m   1264\u001b[0m         \u001b[0mX\u001b[0m\u001b[1;33m,\u001b[0m\u001b[1;33m\u001b[0m\u001b[1;33m\u001b[0m\u001b[0m\n\u001b[0;32m   1265\u001b[0m         \u001b[0maccept_sparse\u001b[0m\u001b[1;33m=\u001b[0m\u001b[0maccept_sparse\u001b[0m\u001b[1;33m,\u001b[0m\u001b[1;33m\u001b[0m\u001b[1;33m\u001b[0m\u001b[0m\n\u001b[0;32m   1266\u001b[0m         \u001b[0maccept_large_sparse\u001b[0m\u001b[1;33m=\u001b[0m\u001b[0maccept_large_sparse\u001b[0m\u001b[1;33m,\u001b[0m\u001b[1;33m\u001b[0m\u001b[1;33m\u001b[0m\u001b[0m\n",
      "\u001b[1;32mc:\\Users\\lfatm\\AppData\\Local\\pypoetry\\Cache\\virtualenvs\\deds-proj-groep1-beKqzd2--py3.12\\Lib\\site-packages\\sklearn\\utils\\validation.py\u001b[0m in \u001b[0;36m?\u001b[1;34m(array, accept_sparse, accept_large_sparse, dtype, order, copy, force_all_finite, ensure_2d, allow_nd, ensure_min_samples, ensure_min_features, estimator, input_name)\u001b[0m\n\u001b[0;32m    994\u001b[0m                         \u001b[1;33m)\u001b[0m\u001b[1;33m\u001b[0m\u001b[1;33m\u001b[0m\u001b[0m\n\u001b[0;32m    995\u001b[0m                     \u001b[0marray\u001b[0m \u001b[1;33m=\u001b[0m \u001b[0mxp\u001b[0m\u001b[1;33m.\u001b[0m\u001b[0mastype\u001b[0m\u001b[1;33m(\u001b[0m\u001b[0marray\u001b[0m\u001b[1;33m,\u001b[0m \u001b[0mdtype\u001b[0m\u001b[1;33m,\u001b[0m \u001b[0mcopy\u001b[0m\u001b[1;33m=\u001b[0m\u001b[1;32mFalse\u001b[0m\u001b[1;33m)\u001b[0m\u001b[1;33m\u001b[0m\u001b[1;33m\u001b[0m\u001b[0m\n\u001b[0;32m    996\u001b[0m                 \u001b[1;32melse\u001b[0m\u001b[1;33m:\u001b[0m\u001b[1;33m\u001b[0m\u001b[1;33m\u001b[0m\u001b[0m\n\u001b[0;32m    997\u001b[0m                     \u001b[0marray\u001b[0m \u001b[1;33m=\u001b[0m \u001b[0m_asarray_with_order\u001b[0m\u001b[1;33m(\u001b[0m\u001b[0marray\u001b[0m\u001b[1;33m,\u001b[0m \u001b[0morder\u001b[0m\u001b[1;33m=\u001b[0m\u001b[0morder\u001b[0m\u001b[1;33m,\u001b[0m \u001b[0mdtype\u001b[0m\u001b[1;33m=\u001b[0m\u001b[0mdtype\u001b[0m\u001b[1;33m,\u001b[0m \u001b[0mxp\u001b[0m\u001b[1;33m=\u001b[0m\u001b[0mxp\u001b[0m\u001b[1;33m)\u001b[0m\u001b[1;33m\u001b[0m\u001b[1;33m\u001b[0m\u001b[0m\n\u001b[1;32m--> 998\u001b[1;33m             \u001b[1;32mexcept\u001b[0m \u001b[0mComplexWarning\u001b[0m \u001b[1;32mas\u001b[0m \u001b[0mcomplex_warning\u001b[0m\u001b[1;33m:\u001b[0m\u001b[1;33m\u001b[0m\u001b[1;33m\u001b[0m\u001b[0m\n\u001b[0m\u001b[0;32m    999\u001b[0m                 raise ValueError(\n\u001b[0;32m   1000\u001b[0m                     \u001b[1;34m\"Complex data not supported\\n{}\\n\"\u001b[0m\u001b[1;33m.\u001b[0m\u001b[0mformat\u001b[0m\u001b[1;33m(\u001b[0m\u001b[0marray\u001b[0m\u001b[1;33m)\u001b[0m\u001b[1;33m\u001b[0m\u001b[1;33m\u001b[0m\u001b[0m\n\u001b[0;32m   1001\u001b[0m                 \u001b[1;33m)\u001b[0m \u001b[1;32mfrom\u001b[0m \u001b[0mcomplex_warning\u001b[0m\u001b[1;33m\u001b[0m\u001b[1;33m\u001b[0m\u001b[0m\n",
      "\u001b[1;32mc:\\Users\\lfatm\\AppData\\Local\\pypoetry\\Cache\\virtualenvs\\deds-proj-groep1-beKqzd2--py3.12\\Lib\\site-packages\\sklearn\\utils\\_array_api.py\u001b[0m in \u001b[0;36m?\u001b[1;34m(array, dtype, order, copy, xp)\u001b[0m\n\u001b[0;32m    517\u001b[0m         \u001b[1;31m# Use NumPy API to support order\u001b[0m\u001b[1;33m\u001b[0m\u001b[1;33m\u001b[0m\u001b[0m\n\u001b[0;32m    518\u001b[0m         \u001b[1;32mif\u001b[0m \u001b[0mcopy\u001b[0m \u001b[1;32mis\u001b[0m \u001b[1;32mTrue\u001b[0m\u001b[1;33m:\u001b[0m\u001b[1;33m\u001b[0m\u001b[1;33m\u001b[0m\u001b[0m\n\u001b[0;32m    519\u001b[0m             \u001b[0marray\u001b[0m \u001b[1;33m=\u001b[0m \u001b[0mnumpy\u001b[0m\u001b[1;33m.\u001b[0m\u001b[0marray\u001b[0m\u001b[1;33m(\u001b[0m\u001b[0marray\u001b[0m\u001b[1;33m,\u001b[0m \u001b[0morder\u001b[0m\u001b[1;33m=\u001b[0m\u001b[0morder\u001b[0m\u001b[1;33m,\u001b[0m \u001b[0mdtype\u001b[0m\u001b[1;33m=\u001b[0m\u001b[0mdtype\u001b[0m\u001b[1;33m)\u001b[0m\u001b[1;33m\u001b[0m\u001b[1;33m\u001b[0m\u001b[0m\n\u001b[0;32m    520\u001b[0m         \u001b[1;32melse\u001b[0m\u001b[1;33m:\u001b[0m\u001b[1;33m\u001b[0m\u001b[1;33m\u001b[0m\u001b[0m\n\u001b[1;32m--> 521\u001b[1;33m             \u001b[0marray\u001b[0m \u001b[1;33m=\u001b[0m \u001b[0mnumpy\u001b[0m\u001b[1;33m.\u001b[0m\u001b[0masarray\u001b[0m\u001b[1;33m(\u001b[0m\u001b[0marray\u001b[0m\u001b[1;33m,\u001b[0m \u001b[0morder\u001b[0m\u001b[1;33m=\u001b[0m\u001b[0morder\u001b[0m\u001b[1;33m,\u001b[0m \u001b[0mdtype\u001b[0m\u001b[1;33m=\u001b[0m\u001b[0mdtype\u001b[0m\u001b[1;33m)\u001b[0m\u001b[1;33m\u001b[0m\u001b[1;33m\u001b[0m\u001b[0m\n\u001b[0m\u001b[0;32m    522\u001b[0m \u001b[1;33m\u001b[0m\u001b[0m\n\u001b[0;32m    523\u001b[0m         \u001b[1;31m# At this point array is a NumPy ndarray. We convert it to an array\u001b[0m\u001b[1;33m\u001b[0m\u001b[1;33m\u001b[0m\u001b[0m\n\u001b[0;32m    524\u001b[0m         \u001b[1;31m# container that is consistent with the input's namespace.\u001b[0m\u001b[1;33m\u001b[0m\u001b[1;33m\u001b[0m\u001b[0m\n",
      "\u001b[1;32mc:\\Users\\lfatm\\AppData\\Local\\pypoetry\\Cache\\virtualenvs\\deds-proj-groep1-beKqzd2--py3.12\\Lib\\site-packages\\pandas\\core\\generic.py\u001b[0m in \u001b[0;36m?\u001b[1;34m(self, dtype, copy)\u001b[0m\n\u001b[0;32m   2149\u001b[0m     def __array__(\n\u001b[0;32m   2150\u001b[0m         \u001b[0mself\u001b[0m\u001b[1;33m,\u001b[0m \u001b[0mdtype\u001b[0m\u001b[1;33m:\u001b[0m \u001b[0mnpt\u001b[0m\u001b[1;33m.\u001b[0m\u001b[0mDTypeLike\u001b[0m \u001b[1;33m|\u001b[0m \u001b[1;32mNone\u001b[0m \u001b[1;33m=\u001b[0m \u001b[1;32mNone\u001b[0m\u001b[1;33m,\u001b[0m \u001b[0mcopy\u001b[0m\u001b[1;33m:\u001b[0m \u001b[0mbool_t\u001b[0m \u001b[1;33m|\u001b[0m \u001b[1;32mNone\u001b[0m \u001b[1;33m=\u001b[0m \u001b[1;32mNone\u001b[0m\u001b[1;33m\u001b[0m\u001b[1;33m\u001b[0m\u001b[0m\n\u001b[0;32m   2151\u001b[0m     \u001b[1;33m)\u001b[0m \u001b[1;33m->\u001b[0m \u001b[0mnp\u001b[0m\u001b[1;33m.\u001b[0m\u001b[0mndarray\u001b[0m\u001b[1;33m:\u001b[0m\u001b[1;33m\u001b[0m\u001b[1;33m\u001b[0m\u001b[0m\n\u001b[0;32m   2152\u001b[0m         \u001b[0mvalues\u001b[0m \u001b[1;33m=\u001b[0m \u001b[0mself\u001b[0m\u001b[1;33m.\u001b[0m\u001b[0m_values\u001b[0m\u001b[1;33m\u001b[0m\u001b[1;33m\u001b[0m\u001b[0m\n\u001b[1;32m-> 2153\u001b[1;33m         \u001b[0marr\u001b[0m \u001b[1;33m=\u001b[0m \u001b[0mnp\u001b[0m\u001b[1;33m.\u001b[0m\u001b[0masarray\u001b[0m\u001b[1;33m(\u001b[0m\u001b[0mvalues\u001b[0m\u001b[1;33m,\u001b[0m \u001b[0mdtype\u001b[0m\u001b[1;33m=\u001b[0m\u001b[0mdtype\u001b[0m\u001b[1;33m)\u001b[0m\u001b[1;33m\u001b[0m\u001b[1;33m\u001b[0m\u001b[0m\n\u001b[0m\u001b[0;32m   2154\u001b[0m         if (\n\u001b[0;32m   2155\u001b[0m             \u001b[0mastype_is_view\u001b[0m\u001b[1;33m(\u001b[0m\u001b[0mvalues\u001b[0m\u001b[1;33m.\u001b[0m\u001b[0mdtype\u001b[0m\u001b[1;33m,\u001b[0m \u001b[0marr\u001b[0m\u001b[1;33m.\u001b[0m\u001b[0mdtype\u001b[0m\u001b[1;33m)\u001b[0m\u001b[1;33m\u001b[0m\u001b[1;33m\u001b[0m\u001b[0m\n\u001b[0;32m   2156\u001b[0m             \u001b[1;32mand\u001b[0m \u001b[0musing_copy_on_write\u001b[0m\u001b[1;33m(\u001b[0m\u001b[1;33m)\u001b[0m\u001b[1;33m\u001b[0m\u001b[1;33m\u001b[0m\u001b[0m\n",
      "\u001b[1;31mValueError\u001b[0m: could not convert string to float: '1998-10-15'"
     ]
    }
   ],
   "source": [
    "## Opsplitsen van gegevens in trainings- en testsets\n",
    "X_train, X_test, y_train, y_test = train_test_split(\n",
    "        X, \n",
    "        Y, \n",
    "        test_size=0.2, \n",
    "        random_state=42\n",
    "    )\n",
    "\n",
    "# Model initialisatie en training voor 'quantity'\n",
    "quantity_model = linear_model.LinearRegression()\n",
    "quantity_model = LinearRegression().fit(X_train, y_train)"
   ]
  },
  {
   "cell_type": "code",
   "execution_count": 156,
   "metadata": {},
   "outputs": [
    {
     "name": "stdout",
     "output_type": "stream",
     "text": [
      "Voorspelde waarde: 19.08, Werkelijke waarde: 48\n",
      "Voorspelde waarde: 29.04, Werkelijke waarde: 60\n",
      "Voorspelde waarde: 15.24, Werkelijke waarde: 36\n",
      "Voorspelde waarde: 25.08, Werkelijke waarde: 24\n",
      "Voorspelde waarde: 32.64, Werkelijke waarde: 12\n",
      "Voorspelde waarde: 27.12, Werkelijke waarde: 36\n",
      "Voorspelde waarde: 37.56, Werkelijke waarde: 48\n",
      "Voorspelde waarde: 22.08, Werkelijke waarde: 24\n",
      "Voorspelde waarde: 21.12, Werkelijke waarde: 24\n",
      "Voorspelde waarde: 23.16, Werkelijke waarde: 48\n",
      "Voorspelde waarde: 27.6, Werkelijke waarde: 48\n",
      "Voorspelde waarde: 22.8, Werkelijke waarde: 36\n",
      "Voorspelde waarde: 26.64, Werkelijke waarde: 12\n",
      "Voorspelde waarde: 23.88, Werkelijke waarde: 12\n",
      "Voorspelde waarde: 18.0, Werkelijke waarde: 12\n",
      "Voorspelde waarde: 26.88, Werkelijke waarde: 24\n",
      "Voorspelde waarde: 20.4, Werkelijke waarde: 12\n",
      "Voorspelde waarde: 19.92, Werkelijke waarde: 24\n",
      "Voorspelde waarde: 25.44, Werkelijke waarde: 24\n",
      "Voorspelde waarde: 21.0, Werkelijke waarde: 24\n",
      "Voorspelde waarde: 49.56, Werkelijke waarde: 36\n",
      "Voorspelde waarde: 26.29, Werkelijke waarde: 12\n",
      "Voorspelde waarde: 15.93, Werkelijke waarde: 36\n",
      "Voorspelde waarde: 26.88, Werkelijke waarde: 12\n",
      "Voorspelde waarde: 27.36, Werkelijke waarde: 36\n",
      "Voorspelde waarde: 26.76, Werkelijke waarde: 24\n",
      "Voorspelde waarde: 32.28, Werkelijke waarde: 12\n",
      "Voorspelde waarde: 29.64, Werkelijke waarde: 36\n",
      "Voorspelde waarde: 39.96, Werkelijke waarde: 12\n",
      "Voorspelde waarde: 19.44, Werkelijke waarde: 36\n",
      "Voorspelde waarde: 15.6, Werkelijke waarde: 12\n",
      "Voorspelde waarde: 48.6, Werkelijke waarde: 12\n",
      "Voorspelde waarde: 33.24, Werkelijke waarde: 24\n",
      "Voorspelde waarde: 21.73, Werkelijke waarde: 12\n",
      "Voorspelde waarde: 19.92, Werkelijke waarde: 24\n",
      "Voorspelde waarde: 31.32, Werkelijke waarde: 24\n",
      "Voorspelde waarde: 15.3, Werkelijke waarde: 36\n",
      "Voorspelde waarde: 33.24, Werkelijke waarde: 12\n",
      "Voorspelde waarde: 20.76, Werkelijke waarde: 48\n",
      "Voorspelde waarde: 31.69, Werkelijke waarde: 36\n",
      "Voorspelde waarde: 28.6, Werkelijke waarde: 24\n",
      "Voorspelde waarde: 36.96, Werkelijke waarde: 24\n",
      "Voorspelde waarde: 34.2, Werkelijke waarde: 24\n",
      "Voorspelde waarde: 15.96, Werkelijke waarde: 12\n",
      "Voorspelde waarde: 15.72, Werkelijke waarde: 12\n",
      "Voorspelde waarde: 26.28, Werkelijke waarde: 12\n",
      "Voorspelde waarde: 23.52, Werkelijke waarde: 12\n",
      "Voorspelde waarde: 23.4, Werkelijke waarde: 12\n",
      "Voorspelde waarde: 20.77, Werkelijke waarde: 12\n",
      "Voorspelde waarde: 23.04, Werkelijke waarde: 36\n",
      "Voorspelde waarde: 29.52, Werkelijke waarde: 60\n",
      "Voorspelde waarde: 28.8, Werkelijke waarde: 36\n",
      "Voorspelde waarde: 17.52, Werkelijke waarde: 12\n",
      "Voorspelde waarde: 15.0, Werkelijke waarde: 36\n",
      "Voorspelde waarde: 34.08, Werkelijke waarde: 72\n",
      "Voorspelde waarde: 25.44, Werkelijke waarde: 12\n",
      "Voorspelde waarde: 27.72, Werkelijke waarde: 12\n",
      "Voorspelde waarde: 29.28, Werkelijke waarde: 24\n",
      "Voorspelde waarde: 29.28, Werkelijke waarde: 12\n",
      "Voorspelde waarde: 24.12, Werkelijke waarde: 24\n",
      "Voorspelde waarde: 17.44, Werkelijke waarde: 12\n",
      "Voorspelde waarde: 25.44, Werkelijke waarde: 48\n",
      "Voorspelde waarde: 18.24, Werkelijke waarde: 12\n",
      "Voorspelde waarde: 18.84, Werkelijke waarde: 72\n",
      "Voorspelde waarde: 34.44, Werkelijke waarde: 36\n",
      "Voorspelde waarde: 19.68, Werkelijke waarde: 12\n",
      "Voorspelde waarde: 17.88, Werkelijke waarde: 12\n",
      "Voorspelde waarde: 45.6, Werkelijke waarde: 24\n",
      "Voorspelde waarde: 26.19, Werkelijke waarde: 60\n",
      "Voorspelde waarde: 24.24, Werkelijke waarde: 12\n",
      "Voorspelde waarde: 23.64, Werkelijke waarde: 48\n",
      "Voorspelde waarde: 22.92, Werkelijke waarde: 36\n",
      "Voorspelde waarde: 33.72, Werkelijke waarde: 48\n",
      "Voorspelde waarde: 19.56, Werkelijke waarde: 24\n",
      "Voorspelde waarde: 24.6, Werkelijke waarde: 12\n",
      "Voorspelde waarde: 15.12, Werkelijke waarde: 12\n",
      "Voorspelde waarde: 23.52, Werkelijke waarde: 24\n",
      "Voorspelde waarde: 29.52, Werkelijke waarde: 24\n",
      "Voorspelde waarde: 17.88, Werkelijke waarde: 48\n",
      "Voorspelde waarde: 24.36, Werkelijke waarde: 24\n",
      "Voorspelde waarde: 15.0, Werkelijke waarde: 48\n",
      "Voorspelde waarde: 19.8, Werkelijke waarde: 24\n",
      "Voorspelde waarde: 21.12, Werkelijke waarde: 24\n",
      "Voorspelde waarde: 21.6, Werkelijke waarde: 48\n",
      "Voorspelde waarde: 23.88, Werkelijke waarde: 12\n",
      "Voorspelde waarde: 27.84, Werkelijke waarde: 60\n",
      "Voorspelde waarde: 17.28, Werkelijke waarde: 36\n",
      "Voorspelde waarde: 26.76, Werkelijke waarde: 12\n",
      "Voorspelde waarde: 21.24, Werkelijke waarde: 12\n",
      "Voorspelde waarde: 17.38, Werkelijke waarde: 12\n",
      "Voorspelde waarde: 28.38, Werkelijke waarde: 24\n",
      "Voorspelde waarde: 22.08, Werkelijke waarde: 24\n",
      "Voorspelde waarde: 21.24, Werkelijke waarde: 24\n",
      "Voorspelde waarde: 26.28, Werkelijke waarde: 12\n",
      "Voorspelde waarde: 21.27, Werkelijke waarde: 24\n",
      "Voorspelde waarde: 20.88, Werkelijke waarde: 12\n",
      "Voorspelde waarde: 21.12, Werkelijke waarde: 12\n",
      "Voorspelde waarde: 21.96, Werkelijke waarde: 12\n",
      "Voorspelde waarde: 16.68, Werkelijke waarde: 36\n",
      "Voorspelde waarde: 23.58, Werkelijke waarde: 24\n",
      "Voorspelde waarde: 27.12, Werkelijke waarde: 12\n",
      "Voorspelde waarde: 27.02, Werkelijke waarde: 48\n",
      "Voorspelde waarde: 18.12, Werkelijke waarde: 24\n",
      "Voorspelde waarde: 25.08, Werkelijke waarde: 24\n",
      "Voorspelde waarde: 29.05, Werkelijke waarde: 12\n",
      "Voorspelde waarde: 22.83, Werkelijke waarde: 24\n",
      "Voorspelde waarde: 39.85, Werkelijke waarde: 24\n",
      "Voorspelde waarde: 27.96, Werkelijke waarde: 60\n",
      "Voorspelde waarde: 20.6, Werkelijke waarde: 24\n",
      "Voorspelde waarde: 25.68, Werkelijke waarde: 36\n",
      "Voorspelde waarde: 23.7, Werkelijke waarde: 24\n",
      "Voorspelde waarde: 40.32, Werkelijke waarde: 24\n",
      "Voorspelde waarde: 17.96, Werkelijke waarde: 12\n",
      "Voorspelde waarde: 28.32, Werkelijke waarde: 36\n",
      "Voorspelde waarde: 22.68, Werkelijke waarde: 24\n",
      "Voorspelde waarde: 43.2, Werkelijke waarde: 12\n",
      "Voorspelde waarde: 20.52, Werkelijke waarde: 12\n",
      "Voorspelde waarde: 24.12, Werkelijke waarde: 36\n",
      "Voorspelde waarde: 22.56, Werkelijke waarde: 12\n",
      "Voorspelde waarde: 19.68, Werkelijke waarde: 60\n",
      "Voorspelde waarde: 17.52, Werkelijke waarde: 12\n",
      "Voorspelde waarde: 24.0, Werkelijke waarde: 72\n",
      "Voorspelde waarde: 27.24, Werkelijke waarde: 24\n",
      "Voorspelde waarde: 25.92, Werkelijke waarde: 24\n",
      "Voorspelde waarde: 20.18, Werkelijke waarde: 24\n",
      "Voorspelde waarde: 21.96, Werkelijke waarde: 60\n",
      "Voorspelde waarde: 38.507999999999996, Werkelijke waarde: 12\n",
      "Voorspelde waarde: 21.72, Werkelijke waarde: 12\n",
      "Voorspelde waarde: 22.56, Werkelijke waarde: 48\n",
      "Voorspelde waarde: 28.2, Werkelijke waarde: 24\n",
      "Voorspelde waarde: 39.12, Werkelijke waarde: 24\n",
      "Voorspelde waarde: 24.12, Werkelijke waarde: 24\n",
      "Voorspelde waarde: 27.36, Werkelijke waarde: 12\n",
      "Voorspelde waarde: 20.76, Werkelijke waarde: 12\n",
      "Voorspelde waarde: 30.6, Werkelijke waarde: 36\n",
      "Voorspelde waarde: 29.55, Werkelijke waarde: 12\n",
      "Voorspelde waarde: 15.72, Werkelijke waarde: 36\n",
      "Voorspelde waarde: 19.92, Werkelijke waarde: 24\n",
      "Voorspelde waarde: 24.0, Werkelijke waarde: 36\n",
      "Voorspelde waarde: 20.28, Werkelijke waarde: 60\n",
      "Voorspelde waarde: 20.64, Werkelijke waarde: 12\n",
      "Voorspelde waarde: 24.36, Werkelijke waarde: 24\n",
      "Voorspelde waarde: 49.2, Werkelijke waarde: 60\n",
      "Voorspelde waarde: 42.0, Werkelijke waarde: 72\n",
      "Voorspelde waarde: 29.28, Werkelijke waarde: 24\n",
      "Voorspelde waarde: 29.52, Werkelijke waarde: 12\n",
      "Voorspelde waarde: 30.24, Werkelijke waarde: 36\n",
      "Voorspelde waarde: 19.68, Werkelijke waarde: 24\n",
      "Voorspelde waarde: 32.76, Werkelijke waarde: 36\n",
      "Voorspelde waarde: 20.28, Werkelijke waarde: 24\n",
      "Voorspelde waarde: 23.78, Werkelijke waarde: 12\n",
      "Voorspelde waarde: 23.86, Werkelijke waarde: 12\n",
      "Voorspelde waarde: 13.56, Werkelijke waarde: 36\n",
      "Voorspelde waarde: 21.15, Werkelijke waarde: 24\n",
      "Voorspelde waarde: 20.64, Werkelijke waarde: 48\n",
      "Voorspelde waarde: 19.58, Werkelijke waarde: 36\n",
      "Voorspelde waarde: 21.96, Werkelijke waarde: 12\n",
      "Voorspelde waarde: 20.64, Werkelijke waarde: 36\n",
      "Voorspelde waarde: 29.28, Werkelijke waarde: 36\n",
      "Voorspelde waarde: 21.72, Werkelijke waarde: 12\n",
      "Voorspelde waarde: 23.04, Werkelijke waarde: 24\n",
      "Voorspelde waarde: 24.96, Werkelijke waarde: 12\n",
      "Voorspelde waarde: 15.36, Werkelijke waarde: 36\n",
      "Voorspelde waarde: 30.48, Werkelijke waarde: 12\n",
      "Voorspelde waarde: 25.68, Werkelijke waarde: 48\n",
      "Voorspelde waarde: 24.96, Werkelijke waarde: 24\n",
      "Voorspelde waarde: 20.04, Werkelijke waarde: 36\n",
      "Voorspelde waarde: 43.08, Werkelijke waarde: 36\n",
      "Voorspelde waarde: 25.32, Werkelijke waarde: 24\n",
      "Voorspelde waarde: 14.64, Werkelijke waarde: 36\n",
      "Voorspelde waarde: 23.16, Werkelijke waarde: 12\n",
      "Voorspelde waarde: 18.6, Werkelijke waarde: 12\n",
      "Voorspelde waarde: 21.66, Werkelijke waarde: 12\n",
      "Voorspelde waarde: 17.76, Werkelijke waarde: 12\n",
      "Voorspelde waarde: 30.01, Werkelijke waarde: 24\n",
      "Voorspelde waarde: 28.8, Werkelijke waarde: 12\n",
      "Voorspelde waarde: 25.92, Werkelijke waarde: 24\n",
      "Voorspelde waarde: 22.44, Werkelijke waarde: 12\n",
      "Voorspelde waarde: 22.68, Werkelijke waarde: 12\n",
      "Voorspelde waarde: 22.68, Werkelijke waarde: 12\n",
      "Voorspelde waarde: 24.84, Werkelijke waarde: 12\n",
      "Voorspelde waarde: 20.64, Werkelijke waarde: 12\n",
      "Voorspelde waarde: 25.68, Werkelijke waarde: 12\n",
      "Voorspelde waarde: 14.52, Werkelijke waarde: 48\n",
      "Voorspelde waarde: 29.88, Werkelijke waarde: 24\n",
      "Voorspelde waarde: 24.99, Werkelijke waarde: 24\n",
      "Voorspelde waarde: 24.0, Werkelijke waarde: 12\n",
      "Voorspelde waarde: 25.08, Werkelijke waarde: 36\n",
      "Voorspelde waarde: 40.92, Werkelijke waarde: 60\n",
      "Voorspelde waarde: 34.8, Werkelijke waarde: 12\n",
      "Voorspelde waarde: 23.64, Werkelijke waarde: 24\n",
      "Voorspelde waarde: 35.28, Werkelijke waarde: 24\n",
      "Voorspelde waarde: 21.24, Werkelijke waarde: 12\n",
      "Voorspelde waarde: 23.16, Werkelijke waarde: 24\n",
      "Voorspelde waarde: 24.36, Werkelijke waarde: 12\n",
      "Voorspelde waarde: 32.04, Werkelijke waarde: 36\n",
      "Voorspelde waarde: 26.04, Werkelijke waarde: 24\n",
      "Voorspelde waarde: 31.56, Werkelijke waarde: 24\n",
      "Voorspelde waarde: 32.28, Werkelijke waarde: 12\n",
      "Voorspelde waarde: 17.28, Werkelijke waarde: 12\n",
      "Voorspelde waarde: 24.84, Werkelijke waarde: 24\n",
      "Voorspelde waarde: 22.92, Werkelijke waarde: 48\n",
      "Voorspelde waarde: 34.32, Werkelijke waarde: 12\n",
      "Voorspelde waarde: 17.04, Werkelijke waarde: 24\n",
      "Voorspelde waarde: 27.12, Werkelijke waarde: 24\n",
      "Voorspelde waarde: 29.28, Werkelijke waarde: 36\n",
      "Voorspelde waarde: 20.76, Werkelijke waarde: 24\n",
      "Voorspelde waarde: 18.12, Werkelijke waarde: 12\n",
      "Voorspelde waarde: 24.48, Werkelijke waarde: 24\n",
      "Voorspelde waarde: 35.52, Werkelijke waarde: 48\n",
      "Voorspelde waarde: 32.52, Werkelijke waarde: 24\n",
      "Voorspelde waarde: 22.08, Werkelijke waarde: 24\n",
      "Voorspelde waarde: 20.24, Werkelijke waarde: 36\n",
      "Voorspelde waarde: 28.44, Werkelijke waarde: 48\n",
      "Voorspelde waarde: 16.92, Werkelijke waarde: 12\n",
      "Voorspelde waarde: 33.84, Werkelijke waarde: 48\n",
      "Voorspelde waarde: 35.64, Werkelijke waarde: 24\n",
      "Voorspelde waarde: 27.24, Werkelijke waarde: 60\n",
      "Voorspelde waarde: 42.48, Werkelijke waarde: 36\n",
      "Voorspelde waarde: 27.6, Werkelijke waarde: 12\n",
      "Voorspelde waarde: 34.44, Werkelijke waarde: 12\n"
     ]
    }
   ],
   "source": [
    "# Voorspellingen maken\n",
    "predictions = quantity_model.predict(X_test)\n",
    "\n",
    "# Print de voorspelde en werkelijke waarden\n",
    "for pred, actual in zip(predictions, y_test):\n",
    "    print(f'Voorspelde waarde: {pred}, Werkelijke waarde: {actual}')"
   ]
  }
 ],
 "metadata": {
  "kernelspec": {
   "display_name": "deds-proj-groep1-beKqzd2--py3.12",
   "language": "python",
   "name": "python3"
  },
  "language_info": {
   "codemirror_mode": {
    "name": "ipython",
    "version": 3
   },
   "file_extension": ".py",
   "mimetype": "text/x-python",
   "name": "python",
   "nbconvert_exporter": "python",
   "pygments_lexer": "ipython3",
   "version": "3.12.2"
  }
 },
 "nbformat": 4,
 "nbformat_minor": 2
}
